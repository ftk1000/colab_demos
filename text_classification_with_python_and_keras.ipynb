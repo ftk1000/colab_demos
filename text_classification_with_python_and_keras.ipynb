{
  "nbformat": 4,
  "nbformat_minor": 0,
  "metadata": {
    "kernelspec": {
      "name": "python3",
      "display_name": "Python 3",
      "language": "python"
    },
    "language_info": {
      "name": "python",
      "version": "3.6.6",
      "mimetype": "text/x-python",
      "codemirror_mode": {
        "name": "ipython",
        "version": 3
      },
      "pygments_lexer": "ipython3",
      "nbconvert_exporter": "python",
      "file_extension": ".py"
    },
    "colab": {
      "name": "text-classification-with-python-and-keras.ipynb",
      "provenance": [],
      "collapsed_sections": [
        "qp6VuDgOzP_c"
      ],
      "toc_visible": true,
      "include_colab_link": true
    },
    "accelerator": "GPU"
  },
  "cells": [
    {
      "cell_type": "markdown",
      "metadata": {
        "id": "view-in-github",
        "colab_type": "text"
      },
      "source": [
        "<a href=\"https://colab.research.google.com/github/ftk1000/colab_demos/blob/master/text_classification_with_python_and_keras.ipynb\" target=\"_parent\"><img src=\"https://colab.research.google.com/assets/colab-badge.svg\" alt=\"Open In Colab\"/></a>"
      ]
    },
    {
      "cell_type": "markdown",
      "metadata": {
        "_uuid": "b5d4c3d412ce81cc9869656bb879240efccc13cf",
        "id": "ll4bpquDzP9p",
        "colab_type": "text"
      },
      "source": [
        "## Table of Contents\n",
        "\n",
        "* Data Set\n",
        "* Defining a Baseline Model\n",
        "* Introduction to Deep Neural Networks\n",
        "    * Introducing Keras\n",
        "    * First Keras Model\n",
        "* What Is a Word Embedding?\n",
        "     * One-Hot Encoding\n",
        "     * Word Embeddings\n",
        "     * Keras Embedding Layer\n",
        "* Convolutional Neural Networks (CNN)\n",
        "*  Hyperparameters Optimization"
      ]
    },
    {
      "cell_type": "markdown",
      "metadata": {
        "_uuid": "1403135d321b059084d6416c5fadcd8d79bd5d49",
        "id": "I-gmhZYtzP9r",
        "colab_type": "text"
      },
      "source": [
        "### Importing Packages"
      ]
    },
    {
      "cell_type": "code",
      "metadata": {
        "_uuid": "8f2839f25d086af736a60e9eeb907d3b93b6e0e5",
        "_cell_guid": "b1076dfc-b9ad-4769-8c92-a6c4dae69d19",
        "trusted": true,
        "id": "zYQaeCEgzP9s",
        "colab_type": "code",
        "colab": {}
      },
      "source": [
        "import numpy as np # linear algebra\n",
        "import pandas as pd # data processing, CSV file I/O (e.g. pd.read_csv)\n",
        "import matplotlib.pyplot as plt\n",
        "plt.style.use('ggplot')\n",
        "\n",
        "from sklearn.feature_extraction.text import CountVectorizer\n",
        "from sklearn.model_selection import train_test_split\n",
        "from sklearn.linear_model import LogisticRegression\n",
        "from sklearn.preprocessing import LabelEncoder\n",
        "from sklearn.preprocessing import OneHotEncoder\n",
        "from sklearn.model_selection import RandomizedSearchCV\n",
        "\n",
        "from keras.models import Sequential\n",
        "from keras import layers\n",
        "from keras.preprocessing.text import Tokenizer\n",
        "from keras.preprocessing.sequence import pad_sequences\n",
        "from keras.wrappers.scikit_learn import KerasClassifier\n",
        "\n",
        "import os, time\n",
        "# print(os.listdir(\"../input\"))\n"
      ],
      "execution_count": 123,
      "outputs": []
    },
    {
      "cell_type": "code",
      "metadata": {
        "id": "h_7Yp1jv-kRO",
        "colab_type": "code",
        "colab": {}
      },
      "source": [
        "# !wget https://www.dropbox.com/s/obaitrix9jyu84r/quora.txt?dl=1 -O ./quora.txt"
      ],
      "execution_count": 124,
      "outputs": []
    },
    {
      "cell_type": "code",
      "metadata": {
        "id": "xiDl7mD75B0M",
        "colab_type": "code",
        "colab": {
          "base_uri": "https://localhost:8080/",
          "height": 289
        },
        "outputId": "a33aba6b-90fc-4a9d-9ed4-486f0d418ae1"
      },
      "source": [
        "!wget https://raw.github.com/ftk1000/data_files/master/textclassificationdb.zip -O ./textclassificationdb.zip"
      ],
      "execution_count": 125,
      "outputs": [
        {
          "output_type": "stream",
          "text": [
            "--2020-09-06 15:23:20--  https://raw.github.com/ftk1000/data_files/master/textclassificationdb.zip\n",
            "Resolving raw.github.com (raw.github.com)... 151.101.0.133, 151.101.64.133, 151.101.128.133, ...\n",
            "Connecting to raw.github.com (raw.github.com)|151.101.0.133|:443... connected.\n",
            "HTTP request sent, awaiting response... 301 Moved Permanently\n",
            "Location: https://raw.githubusercontent.com/ftk1000/data_files/master/textclassificationdb.zip [following]\n",
            "--2020-09-06 15:23:20--  https://raw.githubusercontent.com/ftk1000/data_files/master/textclassificationdb.zip\n",
            "Resolving raw.githubusercontent.com (raw.githubusercontent.com)... 151.101.0.133, 151.101.64.133, 151.101.128.133, ...\n",
            "Connecting to raw.githubusercontent.com (raw.githubusercontent.com)|151.101.0.133|:443... connected.\n",
            "HTTP request sent, awaiting response... 200 OK\n",
            "Length: 82239 (80K) [application/zip]\n",
            "Saving to: ‘./textclassificationdb.zip’\n",
            "\n",
            "\r          ./textcla   0%[                    ]       0  --.-KB/s               \r./textclassificatio 100%[===================>]  80.31K  --.-KB/s    in 0.02s   \n",
            "\n",
            "2020-09-06 15:23:20 (4.52 MB/s) - ‘./textclassificationdb.zip’ saved [82239/82239]\n",
            "\n"
          ],
          "name": "stdout"
        }
      ]
    },
    {
      "cell_type": "code",
      "metadata": {
        "id": "-UbrQCxG-rU8",
        "colab_type": "code",
        "colab": {
          "base_uri": "https://localhost:8080/",
          "height": 289
        },
        "outputId": "f9e685c5-7f65-418f-d43b-d463b7ffa479"
      },
      "source": [
        "# https://stackoverflow.com/questions/4604663/download-single-files-from-github\n",
        "!wget https://raw.github.com/ftk1000/5G/master/36523-1-f00_s07_01.zip -O ./36523-1-f00_s07_01.zip"
      ],
      "execution_count": 126,
      "outputs": [
        {
          "output_type": "stream",
          "text": [
            "--2020-09-06 15:23:20--  https://raw.github.com/ftk1000/5G/master/36523-1-f00_s07_01.zip\n",
            "Resolving raw.github.com (raw.github.com)... 151.101.0.133, 151.101.64.133, 151.101.128.133, ...\n",
            "Connecting to raw.github.com (raw.github.com)|151.101.0.133|:443... connected.\n",
            "HTTP request sent, awaiting response... 301 Moved Permanently\n",
            "Location: https://raw.githubusercontent.com/ftk1000/5G/master/36523-1-f00_s07_01.zip [following]\n",
            "--2020-09-06 15:23:20--  https://raw.githubusercontent.com/ftk1000/5G/master/36523-1-f00_s07_01.zip\n",
            "Resolving raw.githubusercontent.com (raw.githubusercontent.com)... 151.101.0.133, 151.101.64.133, 151.101.128.133, ...\n",
            "Connecting to raw.githubusercontent.com (raw.githubusercontent.com)|151.101.0.133|:443... connected.\n",
            "HTTP request sent, awaiting response... 200 OK\n",
            "Length: 296662 (290K) [application/zip]\n",
            "Saving to: ‘./36523-1-f00_s07_01.zip’\n",
            "\n",
            "\r./36523-1-f00_s07_0   0%[                    ]       0  --.-KB/s               \r./36523-1-f00_s07_0 100%[===================>] 289.71K  --.-KB/s    in 0.03s   \n",
            "\n",
            "2020-09-06 15:23:20 (8.73 MB/s) - ‘./36523-1-f00_s07_01.zip’ saved [296662/296662]\n",
            "\n"
          ],
          "name": "stdout"
        }
      ]
    },
    {
      "cell_type": "markdown",
      "metadata": {
        "id": "Rc4J9elczs6_",
        "colab_type": "text"
      },
      "source": [
        "# PULL DATA FROM KAGGLE\n",
        "\n",
        "Watch: https://www.youtube.com/watch?v=tGw-ZACouik&list=PLdxQ7SoCLQANQ9fQcJ0wnnTzkFsJHlWEj&index=4&t=10s"
      ]
    },
    {
      "cell_type": "code",
      "metadata": {
        "id": "UNU_gGgqzoXj",
        "colab_type": "code",
        "colab": {}
      },
      "source": [
        "# !pip install kaggle"
      ],
      "execution_count": 127,
      "outputs": []
    },
    {
      "cell_type": "code",
      "metadata": {
        "id": "arbr1_Piz3Mi",
        "colab_type": "code",
        "colab": {}
      },
      "source": [
        "# upload local file kaggle_20200901.json\n",
        "\n",
        "# from google.colab import files\n",
        "# files.upload()"
      ],
      "execution_count": 128,
      "outputs": []
    },
    {
      "cell_type": "code",
      "metadata": {
        "id": "1_b3f9lhz_my",
        "colab_type": "code",
        "colab": {}
      },
      "source": [
        "# !mkdir -p ~/.kaggle\n",
        "# !cp kaggle_20200901.json ~/.kaggle/kaggle.json\n",
        "# !chmod 600 ~/.kaggle/kaggle.json"
      ],
      "execution_count": 129,
      "outputs": []
    },
    {
      "cell_type": "markdown",
      "metadata": {
        "id": "y2qr8-4c0OVb",
        "colab_type": "text"
      },
      "source": [
        "# DOWNLOAD textclassificationdb.zip\n",
        "# !kaggle datasets download -d luishpinto/textclassificationdb"
      ]
    },
    {
      "cell_type": "code",
      "metadata": {
        "id": "3F9fTV_E0L2f",
        "colab_type": "code",
        "colab": {}
      },
      "source": [
        "# !kaggle datasets download -d luishpinto/textclassificationdb"
      ],
      "execution_count": 130,
      "outputs": []
    },
    {
      "cell_type": "code",
      "metadata": {
        "id": "3x7GoiQz1mwv",
        "colab_type": "code",
        "colab": {
          "base_uri": "https://localhost:8080/",
          "height": 34
        },
        "outputId": "69ffeca3-214c-41e2-bd01-e3ff27df4d7c"
      },
      "source": [
        "from zipfile import ZipFile\n",
        "file_name = \"textclassificationdb.zip\"\n",
        "\n",
        "with ZipFile(file_name, 'r') as zip:\n",
        "  zip.extractall()\n",
        "  print('Done')"
      ],
      "execution_count": 131,
      "outputs": [
        {
          "output_type": "stream",
          "text": [
            "Done\n"
          ],
          "name": "stdout"
        }
      ]
    },
    {
      "cell_type": "code",
      "metadata": {
        "trusted": true,
        "id": "LDlgkkuMzP9z",
        "colab_type": "code",
        "colab": {
          "base_uri": "https://localhost:8080/",
          "height": 204
        },
        "outputId": "30cd9044-063e-45cc-ef0b-913ca641a811"
      },
      "source": [
        "!head -10 amazon_cells_labelled.txt\n",
        "!pwd"
      ],
      "execution_count": 132,
      "outputs": [
        {
          "output_type": "stream",
          "text": [
            "So there is no way for me to plug it in here in the US unless I go by a converter.\t0\n",
            "Good case, Excellent value.\t1\n",
            "Great for the jawbone.\t1\n",
            "Tied to charger for conversations lasting more than 45 minutes.MAJOR PROBLEMS!!\t0\n",
            "The mic is great.\t1\n",
            "I have to jiggle the plug to get it to line up right to get decent volume.\t0\n",
            "If you have several dozen or several hundred contacts, then imagine the fun of sending each of them one by one.\t0\n",
            "If you are Razr owner...you must have this!\t1\n",
            "Needless to say, I wasted my money.\t0\n",
            "What a waste of money and time!.\t0\n",
            "/content\n"
          ],
          "name": "stdout"
        }
      ]
    },
    {
      "cell_type": "code",
      "metadata": {
        "trusted": true,
        "id": "PCZqPECkzP93",
        "colab_type": "code",
        "colab": {
          "base_uri": "https://localhost:8080/",
          "height": 136
        },
        "outputId": "a065f483-c8ee-4f28-ff95-71debc9fd9a3"
      },
      "source": [
        "#!ls -la ../input/sentiment\\ labelled\\ sentences \n",
        "# !ls -la /kaggle/input/sentiment\\ labelled\\ sentences \n",
        "!ls -l"
      ],
      "execution_count": 133,
      "outputs": [
        {
          "output_type": "stream",
          "text": [
            "total 584\n",
            "-rw-r--r-- 1 root root 296662 Sep  6 15:23 36523-1-f00_s07_01.zip\n",
            "-rw-r--r-- 1 root root  58226 Sep  6 15:23 amazon_cells_labelled.txt\n",
            "-rw-r--r-- 1 root root  85285 Sep  6 15:23 imdb_labelled.txt\n",
            "drwxr-xr-x 1 root root   4096 Aug 27 16:39 sample_data\n",
            "-rw-r--r-- 1 root root  82239 Sep  6 15:23 textclassificationdb.zip\n",
            "-rw-r--r-- 1 root root  61320 Sep  6 15:23 yelp_labelled.txt\n"
          ],
          "name": "stdout"
        }
      ]
    },
    {
      "cell_type": "code",
      "metadata": {
        "trusted": true,
        "id": "HTDy8PxGzP98",
        "colab_type": "code",
        "colab": {}
      },
      "source": [
        "# !cp /kaggle/input/sentiment\\ labelled\\ sentences/*.txt www.kaggle.com/zurman/\n"
      ],
      "execution_count": 134,
      "outputs": []
    },
    {
      "cell_type": "markdown",
      "metadata": {
        "_uuid": "95d949291c93842c872d9dcee6924ff56024cf8a",
        "id": "YsrSMoT4zP-B",
        "colab_type": "text"
      },
      "source": [
        "Extract the folder into a data folder and go ahead and load the data with Pandas:"
      ]
    },
    {
      "cell_type": "code",
      "metadata": {
        "_cell_guid": "79c7e3d0-c299-4dcb-8224-4455121ee9b0",
        "_uuid": "d629ff2d2480ee46fbb7e2d37f6b5fab8052498a",
        "trusted": true,
        "id": "vuF_IG31zP-C",
        "colab_type": "code",
        "colab": {}
      },
      "source": [
        "# https://www.kaggle.com/zurman/text-classification-with-python-and-keras/edit\n",
        "import pandas as pd\n",
        "\n",
        "filepath_dict = {'yelp':   'yelp_labelled.txt', #../input/sentiment labelled sentences/sentiment labelled sentences/\n",
        "                 'amazon': 'amazon_cells_labelled.txt',\n",
        "                 'imdb':   'imdb_labelled.txt'}\n",
        "\n",
        "df_list = []\n",
        "for source, filepath in filepath_dict.items():\n",
        "    df = pd.read_csv(filepath, names=['sentence', 'label'], sep='\\t')\n",
        "    df['source'] = source  # Add another column filled with the source name\n",
        "    df_list.append(df)\n",
        "# df_list"
      ],
      "execution_count": 135,
      "outputs": []
    },
    {
      "cell_type": "code",
      "metadata": {
        "trusted": true,
        "id": "BkiylujJzP-N",
        "colab_type": "code",
        "colab": {
          "base_uri": "https://localhost:8080/",
          "height": 731
        },
        "outputId": "02ecef3e-5ed7-43ac-e4e2-9b5d25401936"
      },
      "source": [
        "df_list"
      ],
      "execution_count": 136,
      "outputs": [
        {
          "output_type": "execute_result",
          "data": {
            "text/plain": [
              "[                                              sentence  label source\n",
              " 0                             Wow... Loved this place.      1   yelp\n",
              " 1                                   Crust is not good.      0   yelp\n",
              " 2            Not tasty and the texture was just nasty.      0   yelp\n",
              " 3    Stopped by during the late May bank holiday of...      1   yelp\n",
              " 4    The selection on the menu was great and so wer...      1   yelp\n",
              " ..                                                 ...    ...    ...\n",
              " 995  I think food should have flavor and texture an...      0   yelp\n",
              " 996                           Appetite instantly gone.      0   yelp\n",
              " 997  Overall I was not impressed and would not go b...      0   yelp\n",
              " 998  The whole experience was underwhelming, and I ...      0   yelp\n",
              " 999  Then, as if I hadn't wasted enough of my life ...      0   yelp\n",
              " \n",
              " [1000 rows x 3 columns],\n",
              "                                               sentence  label  source\n",
              " 0    So there is no way for me to plug it in here i...      0  amazon\n",
              " 1                          Good case, Excellent value.      1  amazon\n",
              " 2                               Great for the jawbone.      1  amazon\n",
              " 3    Tied to charger for conversations lasting more...      0  amazon\n",
              " 4                                    The mic is great.      1  amazon\n",
              " ..                                                 ...    ...     ...\n",
              " 995  The screen does get smudged easily because it ...      0  amazon\n",
              " 996  What a piece of junk.. I lose more calls on th...      0  amazon\n",
              " 997                       Item Does Not Match Picture.      0  amazon\n",
              " 998  The only thing that disappoint me is the infra...      0  amazon\n",
              " 999  You can not answer calls with the unit, never ...      0  amazon\n",
              " \n",
              " [1000 rows x 3 columns],\n",
              "                                               sentence  label source\n",
              " 0    A very, very, very slow-moving, aimless movie ...      0   imdb\n",
              " 1    Not sure who was more lost - the flat characte...      0   imdb\n",
              " 2    Attempting artiness with black & white and cle...      0   imdb\n",
              " 3         Very little music or anything to speak of.        0   imdb\n",
              " 4    The best scene in the movie was when Gerardo i...      1   imdb\n",
              " ..                                                 ...    ...    ...\n",
              " 743  I just got bored watching Jessice Lange take h...      0   imdb\n",
              " 744  Unfortunately, any virtue in this film's produ...      0   imdb\n",
              " 745                   In a word, it is embarrassing.        0   imdb\n",
              " 746                               Exceptionally bad!        0   imdb\n",
              " 747  All in all its an insult to one's intelligence...      0   imdb\n",
              " \n",
              " [748 rows x 3 columns]]"
            ]
          },
          "metadata": {
            "tags": []
          },
          "execution_count": 136
        }
      ]
    },
    {
      "cell_type": "code",
      "metadata": {
        "trusted": true,
        "_uuid": "2d45133c8888889283e3c042c2e8d140a09e58ad",
        "id": "t6RqdDFRzP-S",
        "colab_type": "code",
        "colab": {
          "base_uri": "https://localhost:8080/",
          "height": 85
        },
        "outputId": "0170038f-78c9-4101-ac94-e374c2fae672"
      },
      "source": [
        "df = pd.concat(df_list)\n",
        "df.iloc[0]"
      ],
      "execution_count": 137,
      "outputs": [
        {
          "output_type": "execute_result",
          "data": {
            "text/plain": [
              "sentence    Wow... Loved this place.\n",
              "label                              1\n",
              "source                          yelp\n",
              "Name: 0, dtype: object"
            ]
          },
          "metadata": {
            "tags": []
          },
          "execution_count": 137
        }
      ]
    },
    {
      "cell_type": "code",
      "metadata": {
        "trusted": true,
        "_uuid": "1684d66bd7450cf5c0c7424f70738bcb6c902d9b",
        "id": "wB-5VWVjzP-b",
        "colab_type": "code",
        "colab": {
          "base_uri": "https://localhost:8080/",
          "height": 204
        },
        "outputId": "2bf1eed9-9613-403b-f362-d8754ca87aaf"
      },
      "source": [
        "df.head()"
      ],
      "execution_count": 138,
      "outputs": [
        {
          "output_type": "execute_result",
          "data": {
            "text/html": [
              "<div>\n",
              "<style scoped>\n",
              "    .dataframe tbody tr th:only-of-type {\n",
              "        vertical-align: middle;\n",
              "    }\n",
              "\n",
              "    .dataframe tbody tr th {\n",
              "        vertical-align: top;\n",
              "    }\n",
              "\n",
              "    .dataframe thead th {\n",
              "        text-align: right;\n",
              "    }\n",
              "</style>\n",
              "<table border=\"1\" class=\"dataframe\">\n",
              "  <thead>\n",
              "    <tr style=\"text-align: right;\">\n",
              "      <th></th>\n",
              "      <th>sentence</th>\n",
              "      <th>label</th>\n",
              "      <th>source</th>\n",
              "    </tr>\n",
              "  </thead>\n",
              "  <tbody>\n",
              "    <tr>\n",
              "      <th>0</th>\n",
              "      <td>Wow... Loved this place.</td>\n",
              "      <td>1</td>\n",
              "      <td>yelp</td>\n",
              "    </tr>\n",
              "    <tr>\n",
              "      <th>1</th>\n",
              "      <td>Crust is not good.</td>\n",
              "      <td>0</td>\n",
              "      <td>yelp</td>\n",
              "    </tr>\n",
              "    <tr>\n",
              "      <th>2</th>\n",
              "      <td>Not tasty and the texture was just nasty.</td>\n",
              "      <td>0</td>\n",
              "      <td>yelp</td>\n",
              "    </tr>\n",
              "    <tr>\n",
              "      <th>3</th>\n",
              "      <td>Stopped by during the late May bank holiday of...</td>\n",
              "      <td>1</td>\n",
              "      <td>yelp</td>\n",
              "    </tr>\n",
              "    <tr>\n",
              "      <th>4</th>\n",
              "      <td>The selection on the menu was great and so wer...</td>\n",
              "      <td>1</td>\n",
              "      <td>yelp</td>\n",
              "    </tr>\n",
              "  </tbody>\n",
              "</table>\n",
              "</div>"
            ],
            "text/plain": [
              "                                            sentence  label source\n",
              "0                           Wow... Loved this place.      1   yelp\n",
              "1                                 Crust is not good.      0   yelp\n",
              "2          Not tasty and the texture was just nasty.      0   yelp\n",
              "3  Stopped by during the late May bank holiday of...      1   yelp\n",
              "4  The selection on the menu was great and so wer...      1   yelp"
            ]
          },
          "metadata": {
            "tags": []
          },
          "execution_count": 138
        }
      ]
    },
    {
      "cell_type": "code",
      "metadata": {
        "trusted": true,
        "_uuid": "dea68a159b037cc68a1abe904acf9582fe4a373d",
        "id": "ObE5zp-hzP-f",
        "colab_type": "code",
        "colab": {
          "base_uri": "https://localhost:8080/",
          "height": 204
        },
        "outputId": "84b9ebf0-6429-49a9-8e8d-9305488ce5bb"
      },
      "source": [
        "df.tail()"
      ],
      "execution_count": 139,
      "outputs": [
        {
          "output_type": "execute_result",
          "data": {
            "text/html": [
              "<div>\n",
              "<style scoped>\n",
              "    .dataframe tbody tr th:only-of-type {\n",
              "        vertical-align: middle;\n",
              "    }\n",
              "\n",
              "    .dataframe tbody tr th {\n",
              "        vertical-align: top;\n",
              "    }\n",
              "\n",
              "    .dataframe thead th {\n",
              "        text-align: right;\n",
              "    }\n",
              "</style>\n",
              "<table border=\"1\" class=\"dataframe\">\n",
              "  <thead>\n",
              "    <tr style=\"text-align: right;\">\n",
              "      <th></th>\n",
              "      <th>sentence</th>\n",
              "      <th>label</th>\n",
              "      <th>source</th>\n",
              "    </tr>\n",
              "  </thead>\n",
              "  <tbody>\n",
              "    <tr>\n",
              "      <th>743</th>\n",
              "      <td>I just got bored watching Jessice Lange take h...</td>\n",
              "      <td>0</td>\n",
              "      <td>imdb</td>\n",
              "    </tr>\n",
              "    <tr>\n",
              "      <th>744</th>\n",
              "      <td>Unfortunately, any virtue in this film's produ...</td>\n",
              "      <td>0</td>\n",
              "      <td>imdb</td>\n",
              "    </tr>\n",
              "    <tr>\n",
              "      <th>745</th>\n",
              "      <td>In a word, it is embarrassing.</td>\n",
              "      <td>0</td>\n",
              "      <td>imdb</td>\n",
              "    </tr>\n",
              "    <tr>\n",
              "      <th>746</th>\n",
              "      <td>Exceptionally bad!</td>\n",
              "      <td>0</td>\n",
              "      <td>imdb</td>\n",
              "    </tr>\n",
              "    <tr>\n",
              "      <th>747</th>\n",
              "      <td>All in all its an insult to one's intelligence...</td>\n",
              "      <td>0</td>\n",
              "      <td>imdb</td>\n",
              "    </tr>\n",
              "  </tbody>\n",
              "</table>\n",
              "</div>"
            ],
            "text/plain": [
              "                                              sentence  label source\n",
              "743  I just got bored watching Jessice Lange take h...      0   imdb\n",
              "744  Unfortunately, any virtue in this film's produ...      0   imdb\n",
              "745                   In a word, it is embarrassing.        0   imdb\n",
              "746                               Exceptionally bad!        0   imdb\n",
              "747  All in all its an insult to one's intelligence...      0   imdb"
            ]
          },
          "metadata": {
            "tags": []
          },
          "execution_count": 139
        }
      ]
    },
    {
      "cell_type": "markdown",
      "metadata": {
        "_uuid": "a90fbb437a4b0aab75956ef2be014a8a4fa81fc4",
        "id": "zIll4rTRzP-k",
        "colab_type": "text"
      },
      "source": [
        "Now use the `CountVectorizer` provided by the `scikit-learn` library to vectorize sentences. It takes the words of each sentence and creates a vocabulary of all the unique words in the sentences. This vocabulary can then be used to create a feature vector of the count of the words:"
      ]
    },
    {
      "cell_type": "code",
      "metadata": {
        "trusted": true,
        "id": "cwyQ51rSzP-l",
        "colab_type": "code",
        "colab": {}
      },
      "source": [
        "# !pip install scikit-learn"
      ],
      "execution_count": 140,
      "outputs": []
    },
    {
      "cell_type": "code",
      "metadata": {
        "trusted": true,
        "id": "qf-1jGCSzP-o",
        "colab_type": "code",
        "colab": {}
      },
      "source": [
        "import sklearn\n",
        "from sklearn.feature_extraction.text import CountVectorizer"
      ],
      "execution_count": 141,
      "outputs": []
    },
    {
      "cell_type": "code",
      "metadata": {
        "trusted": true,
        "_uuid": "b6090a1d36e488302b8f6fc9d1841cfc72ca0494",
        "id": "opppWzwAzP-r",
        "colab_type": "code",
        "colab": {}
      },
      "source": [
        "sentences = ['Masha likes ice cream', 'Masha hates chocolate.']"
      ],
      "execution_count": 142,
      "outputs": []
    },
    {
      "cell_type": "code",
      "metadata": {
        "trusted": true,
        "_uuid": "5b1fbb71e22940fef0c4c1475a03f9c49a44450e",
        "id": "SMrgrq70zP-v",
        "colab_type": "code",
        "colab": {
          "base_uri": "https://localhost:8080/",
          "height": 34
        },
        "outputId": "76a2f509-c125-4b0b-d631-66d88e9dfc31"
      },
      "source": [
        "vectorizer = CountVectorizer(min_df=0, lowercase=False)\n",
        "vectorizer.fit(sentences)\n",
        "vectorizer.vocabulary_"
      ],
      "execution_count": 143,
      "outputs": [
        {
          "output_type": "execute_result",
          "data": {
            "text/plain": [
              "{'Masha': 0, 'chocolate': 1, 'cream': 2, 'hates': 3, 'ice': 4, 'likes': 5}"
            ]
          },
          "metadata": {
            "tags": []
          },
          "execution_count": 143
        }
      ]
    },
    {
      "cell_type": "code",
      "metadata": {
        "trusted": true,
        "_uuid": "a03c3dcbba4389bf4c813c90d97fc4c314cab99b",
        "id": "NnMUGjv9zP-z",
        "colab_type": "code",
        "colab": {
          "base_uri": "https://localhost:8080/",
          "height": 51
        },
        "outputId": "b5d67a2f-cdce-420f-d4e8-a41e5356ff86"
      },
      "source": [
        "vectorizer.transform(sentences).toarray()"
      ],
      "execution_count": 144,
      "outputs": [
        {
          "output_type": "execute_result",
          "data": {
            "text/plain": [
              "array([[1, 0, 1, 0, 1, 1],\n",
              "       [1, 1, 0, 1, 0, 0]])"
            ]
          },
          "metadata": {
            "tags": []
          },
          "execution_count": 144
        }
      ]
    },
    {
      "cell_type": "markdown",
      "metadata": {
        "_uuid": "884e3028489cb93b5e510f520dd927b2307d0efd",
        "id": "bqIBGVKGzP-2",
        "colab_type": "text"
      },
      "source": [
        "## Defining a Baseline Model"
      ]
    },
    {
      "cell_type": "markdown",
      "metadata": {
        "_uuid": "fefb1c692c451e2b21e312a1d32ee219d5d1fd25",
        "id": "_i5m6pkozP-3",
        "colab_type": "text"
      },
      "source": [
        "First, you are going to split the data into a training and testing set which will allow you to evaluate the accuracy and see if your model generalizes well. This means whether the model is able to perform well on data it has not seen before. This is a way to see if the model is overfitting.\n",
        "\n",
        "**Overfitting** is when a model is trained too well on the training data. You want to avoid overfitting, as this would mean that the model mostly just memorized the training data. This would account for a large accuracy with the training data but a low accuracy in the testing data. "
      ]
    },
    {
      "cell_type": "markdown",
      "metadata": {
        "_uuid": "fba1581075a612406133d1e3019520e94dd7bb7d",
        "id": "94Mw9Ct4zP-4",
        "colab_type": "text"
      },
      "source": [
        "We start by taking the Yelp data set which we extract from our concatenated data set. From there, we take the sentences and labels."
      ]
    },
    {
      "cell_type": "code",
      "metadata": {
        "trusted": true,
        "id": "kFX2FLGrzP-4",
        "colab_type": "code",
        "colab": {}
      },
      "source": [
        "from sklearn.model_selection import train_test_split"
      ],
      "execution_count": 145,
      "outputs": []
    },
    {
      "cell_type": "code",
      "metadata": {
        "trusted": true,
        "_uuid": "448e856394ba4bc54b2471cad81832c6689b0d4b",
        "id": "H9N1_v9XzP-7",
        "colab_type": "code",
        "colab": {}
      },
      "source": [
        "df_yelp = df[df['source'] == 'yelp']\n",
        "sentences = df_yelp['sentence'].values\n",
        "y = df_yelp['label'].values\n",
        "\n",
        "sentences_train, sentences_test, y_train, y_test = train_test_split(sentences, y, test_size=0.25, random_state=1000)"
      ],
      "execution_count": 146,
      "outputs": []
    },
    {
      "cell_type": "code",
      "metadata": {
        "trusted": true,
        "id": "e1ucOvLUzP--",
        "colab_type": "code",
        "colab": {
          "base_uri": "https://localhost:8080/",
          "height": 204
        },
        "outputId": "e01f21bf-21b2-4800-a13e-9a4064057594"
      },
      "source": [
        "df_yelp.head()"
      ],
      "execution_count": 147,
      "outputs": [
        {
          "output_type": "execute_result",
          "data": {
            "text/html": [
              "<div>\n",
              "<style scoped>\n",
              "    .dataframe tbody tr th:only-of-type {\n",
              "        vertical-align: middle;\n",
              "    }\n",
              "\n",
              "    .dataframe tbody tr th {\n",
              "        vertical-align: top;\n",
              "    }\n",
              "\n",
              "    .dataframe thead th {\n",
              "        text-align: right;\n",
              "    }\n",
              "</style>\n",
              "<table border=\"1\" class=\"dataframe\">\n",
              "  <thead>\n",
              "    <tr style=\"text-align: right;\">\n",
              "      <th></th>\n",
              "      <th>sentence</th>\n",
              "      <th>label</th>\n",
              "      <th>source</th>\n",
              "    </tr>\n",
              "  </thead>\n",
              "  <tbody>\n",
              "    <tr>\n",
              "      <th>0</th>\n",
              "      <td>Wow... Loved this place.</td>\n",
              "      <td>1</td>\n",
              "      <td>yelp</td>\n",
              "    </tr>\n",
              "    <tr>\n",
              "      <th>1</th>\n",
              "      <td>Crust is not good.</td>\n",
              "      <td>0</td>\n",
              "      <td>yelp</td>\n",
              "    </tr>\n",
              "    <tr>\n",
              "      <th>2</th>\n",
              "      <td>Not tasty and the texture was just nasty.</td>\n",
              "      <td>0</td>\n",
              "      <td>yelp</td>\n",
              "    </tr>\n",
              "    <tr>\n",
              "      <th>3</th>\n",
              "      <td>Stopped by during the late May bank holiday of...</td>\n",
              "      <td>1</td>\n",
              "      <td>yelp</td>\n",
              "    </tr>\n",
              "    <tr>\n",
              "      <th>4</th>\n",
              "      <td>The selection on the menu was great and so wer...</td>\n",
              "      <td>1</td>\n",
              "      <td>yelp</td>\n",
              "    </tr>\n",
              "  </tbody>\n",
              "</table>\n",
              "</div>"
            ],
            "text/plain": [
              "                                            sentence  label source\n",
              "0                           Wow... Loved this place.      1   yelp\n",
              "1                                 Crust is not good.      0   yelp\n",
              "2          Not tasty and the texture was just nasty.      0   yelp\n",
              "3  Stopped by during the late May bank holiday of...      1   yelp\n",
              "4  The selection on the menu was great and so wer...      1   yelp"
            ]
          },
          "metadata": {
            "tags": []
          },
          "execution_count": 147
        }
      ]
    },
    {
      "cell_type": "code",
      "metadata": {
        "trusted": true,
        "id": "wD9VPaqszP_B",
        "colab_type": "code",
        "colab": {
          "base_uri": "https://localhost:8080/",
          "height": 68
        },
        "outputId": "58074c0f-9253-4958-b255-0ee5064355d7"
      },
      "source": [
        "print(df_yelp['label'].value_counts())"
      ],
      "execution_count": 148,
      "outputs": [
        {
          "output_type": "stream",
          "text": [
            "1    500\n",
            "0    500\n",
            "Name: label, dtype: int64\n"
          ],
          "name": "stdout"
        }
      ]
    },
    {
      "cell_type": "markdown",
      "metadata": {
        "trusted": true,
        "_uuid": "a47b7b5e21a856c3ebfce257f1ed483b5fe0082f",
        "id": "82BkfV8CzP_F",
        "colab_type": "text"
      },
      "source": [
        "Create the feature vectors for each sentence of the training and testing set:"
      ]
    },
    {
      "cell_type": "code",
      "metadata": {
        "trusted": true,
        "_uuid": "c5e6910c1a590924b9e8d5995656ac240287da02",
        "id": "eDVrYN1rzP_G",
        "colab_type": "code",
        "colab": {}
      },
      "source": [
        "vectorizer = CountVectorizer()\n",
        "vectorizer.fit(sentences_train)\n",
        "\n",
        "X_train = vectorizer.transform(sentences_train)\n",
        "X_test  = vectorizer.transform(sentences_test)"
      ],
      "execution_count": 149,
      "outputs": []
    },
    {
      "cell_type": "code",
      "metadata": {
        "trusted": true,
        "_uuid": "1dc1882c7c6b68fe78729fc2625a06300cd76246",
        "id": "ufwXkEYizP_J",
        "colab_type": "code",
        "colab": {
          "base_uri": "https://localhost:8080/",
          "height": 221
        },
        "outputId": "ee6ad3e7-0e90-498e-b4c1-bf0b500117b1"
      },
      "source": [
        "print(type(X_train))\n",
        "vocab = vectorizer.vocabulary_\n",
        "print('VOCAB LENGTH = ',len(vectorizer.vocabulary_))\n",
        "\n",
        "# show 10 vocab entries\n",
        "highestCount = max(vocab.values())\n",
        "for k, v in vocab.items():\n",
        "  if v <= highestCount and v > highestCount-10 :\n",
        "    print(v,k)"
      ],
      "execution_count": 150,
      "outputs": [
        {
          "output_type": "stream",
          "text": [
            "<class 'scipy.sparse.csr.csr_matrix'>\n",
            "VOCAB LENGTH =  1714\n",
            "1707 you\n",
            "1709 yucky\n",
            "1708 your\n",
            "1711 yum\n",
            "1706 yet\n",
            "1712 yummy\n",
            "1713 zero\n",
            "1704 yellow\n",
            "1705 yellowtail\n",
            "1710 yukon\n"
          ],
          "name": "stdout"
        }
      ]
    },
    {
      "cell_type": "markdown",
      "metadata": {
        "_uuid": "ca45d1d9be1a9a76ccaabff5c2dee480a0f15cb5",
        "id": "KOvnqSYHzP_M",
        "colab_type": "text"
      },
      "source": [
        "`CountVectorizer` performs tokenization which separates the sentences into a set of **tokens**. It additionally removes punctuation and special characters and can apply other preprocessing to each word. If you want, you can use a custom tokenizer from the NLTK library with the CountVectorizer or use any number of the customizations which you can explore to improve the performance of your model."
      ]
    },
    {
      "cell_type": "markdown",
      "metadata": {
        "_uuid": "0b9f39f8beff24e9d5cc0bd2e91d59e730e70ed8",
        "id": "1_micYN5zP_M",
        "colab_type": "text"
      },
      "source": [
        "The classification model we are going to use is the logistic regression which is a simple yet powerful linear model that is mathematically speaking in fact a form of regression between 0 and 1 based on the input feature vector. By specifying a cutoff value (by default 0.5), the regression model is used for classification. "
      ]
    },
    {
      "cell_type": "code",
      "metadata": {
        "trusted": true,
        "id": "bPbZHBYpzP_N",
        "colab_type": "code",
        "colab": {
          "base_uri": "https://localhost:8080/",
          "height": 49
        },
        "outputId": "7dcd04da-483d-4e93-dfa2-92805dfbfb2b"
      },
      "source": [
        "from sklearn.linear_model import LogisticRegression\n",
        "import time\n",
        "\n",
        "\n",
        "# in this DF we will track DATASET, TRAINING_run_time and ACCURACY for each MODEL\n",
        "resdf = pd.DataFrame(columns=['model','dataset','Train_Runtime','accuracy'])\n",
        "idx=0\n",
        "resdf"
      ],
      "execution_count": 151,
      "outputs": [
        {
          "output_type": "execute_result",
          "data": {
            "text/html": [
              "<div>\n",
              "<style scoped>\n",
              "    .dataframe tbody tr th:only-of-type {\n",
              "        vertical-align: middle;\n",
              "    }\n",
              "\n",
              "    .dataframe tbody tr th {\n",
              "        vertical-align: top;\n",
              "    }\n",
              "\n",
              "    .dataframe thead th {\n",
              "        text-align: right;\n",
              "    }\n",
              "</style>\n",
              "<table border=\"1\" class=\"dataframe\">\n",
              "  <thead>\n",
              "    <tr style=\"text-align: right;\">\n",
              "      <th></th>\n",
              "      <th>model</th>\n",
              "      <th>dataset</th>\n",
              "      <th>Train_Runtime</th>\n",
              "      <th>accuracy</th>\n",
              "    </tr>\n",
              "  </thead>\n",
              "  <tbody>\n",
              "  </tbody>\n",
              "</table>\n",
              "</div>"
            ],
            "text/plain": [
              "Empty DataFrame\n",
              "Columns: [model, dataset, Train_Runtime, accuracy]\n",
              "Index: []"
            ]
          },
          "metadata": {
            "tags": []
          },
          "execution_count": 151
        }
      ]
    },
    {
      "cell_type": "code",
      "metadata": {
        "trusted": true,
        "_uuid": "db2f442632a368f7c0520dc795b80e956f26032f",
        "id": "Ht4llHHqzP_Q",
        "colab_type": "code",
        "colab": {
          "base_uri": "https://localhost:8080/",
          "height": 80
        },
        "outputId": "c7806e2e-cf13-44b5-bee0-6984fe06bb59"
      },
      "source": [
        "start_time = time.time()\n",
        "classifier = LogisticRegression()\n",
        "classifier.fit(X_train, y_train)\n",
        "score = classifier.score(X_test, y_test)\n",
        "rtime = time.time() - start_time \n",
        "# print(\"Accuracy:\", score)\n",
        "resdf.loc[idx]=['lr','yelp', rtime, score]\n",
        "idx+=1\n",
        "resdf"
      ],
      "execution_count": 152,
      "outputs": [
        {
          "output_type": "execute_result",
          "data": {
            "text/html": [
              "<div>\n",
              "<style scoped>\n",
              "    .dataframe tbody tr th:only-of-type {\n",
              "        vertical-align: middle;\n",
              "    }\n",
              "\n",
              "    .dataframe tbody tr th {\n",
              "        vertical-align: top;\n",
              "    }\n",
              "\n",
              "    .dataframe thead th {\n",
              "        text-align: right;\n",
              "    }\n",
              "</style>\n",
              "<table border=\"1\" class=\"dataframe\">\n",
              "  <thead>\n",
              "    <tr style=\"text-align: right;\">\n",
              "      <th></th>\n",
              "      <th>model</th>\n",
              "      <th>dataset</th>\n",
              "      <th>Train_Runtime</th>\n",
              "      <th>accuracy</th>\n",
              "    </tr>\n",
              "  </thead>\n",
              "  <tbody>\n",
              "    <tr>\n",
              "      <th>0</th>\n",
              "      <td>lr</td>\n",
              "      <td>yelp</td>\n",
              "      <td>0.029802</td>\n",
              "      <td>0.796</td>\n",
              "    </tr>\n",
              "  </tbody>\n",
              "</table>\n",
              "</div>"
            ],
            "text/plain": [
              "  model dataset  Train_Runtime  accuracy\n",
              "0    lr    yelp       0.029802     0.796"
            ]
          },
          "metadata": {
            "tags": []
          },
          "execution_count": 152
        }
      ]
    },
    {
      "cell_type": "code",
      "metadata": {
        "id": "dOdVkvHu-LJu",
        "colab_type": "code",
        "colab": {
          "base_uri": "https://localhost:8080/",
          "height": 34
        },
        "outputId": "373afb31-ac33-4cd5-978b-cadc6e653159"
      },
      "source": [
        "# start_time = time.time()\n",
        "# rtime = time.time() - start_time \n",
        "# # print(\"Accuracy:\", score)\n",
        "# resdf.loc[idx]=['lr',rtime, score]\n",
        "# idx+=1\n",
        "# resdf\n",
        "idx"
      ],
      "execution_count": 153,
      "outputs": [
        {
          "output_type": "execute_result",
          "data": {
            "text/plain": [
              "1"
            ]
          },
          "metadata": {
            "tags": []
          },
          "execution_count": 153
        }
      ]
    },
    {
      "cell_type": "markdown",
      "metadata": {
        "_uuid": "0b534cd4551329ef0ffcaa2b13f0336d86dd6025",
        "id": "Z5ftQOqzzP_V",
        "colab_type": "text"
      },
      "source": [
        "You can see that the logistic regression reached an impressive 79.6%, but let’s have a look how this model performs on the other data sets that we have. In this script, we perform and evaluate the whole process for each data set that we have:"
      ]
    },
    {
      "cell_type": "code",
      "metadata": {
        "id": "UheIhNwP9-DP",
        "colab_type": "code",
        "colab": {
          "base_uri": "https://localhost:8080/",
          "height": 34
        },
        "outputId": "3802ee30-7446-4b36-e77f-029b4348bfec"
      },
      "source": [
        "df.shape"
      ],
      "execution_count": 154,
      "outputs": [
        {
          "output_type": "execute_result",
          "data": {
            "text/plain": [
              "(2748, 3)"
            ]
          },
          "metadata": {
            "tags": []
          },
          "execution_count": 154
        }
      ]
    },
    {
      "cell_type": "code",
      "metadata": {
        "trusted": true,
        "_uuid": "2612ace5fb3fc3a15f1619ae6f7a12895821cd9d",
        "id": "ZyQs1o9vzP_W",
        "colab_type": "code",
        "colab": {
          "base_uri": "https://localhost:8080/",
          "height": 272
        },
        "outputId": "de38e242-0a06-4e55-a39b-d4180a46abf9"
      },
      "source": [
        "for source in df['source'].unique():\n",
        "    df_source = df[df['source'] == source]\n",
        "    sentences = df_source['sentence'].values\n",
        "    y = df_source['label'].values\n",
        "\n",
        "    sentences_train, sentences_test, y_train, y_test = train_test_split(\n",
        "        sentences, y, test_size=0.25, random_state=1000)\n",
        "\n",
        "    vectorizer = CountVectorizer()\n",
        "    vectorizer.fit(sentences_train)\n",
        "    X_train = vectorizer.transform(sentences_train)\n",
        "    X_test  = vectorizer.transform(sentences_test)\n",
        "\n",
        "    classifier = LogisticRegression()\n",
        "    classifier.fit(X_train, y_train)\n",
        "    score = classifier.score(X_test, y_test)\n",
        "\n",
        "    if source!='yelp':\n",
        "          resdf.loc[idx]=['lr',source, 'NA', score]\n",
        "          idx+=1\n",
        "\n",
        "    print('T_train_shape',X_train.shape)      \n",
        "    print('T_test_shape',X_test.shape)      \n",
        "    print('Accuracy for {} data: {:.4f}'.format(source, score))\n",
        "    print(\"\\n\")\n"
      ],
      "execution_count": 155,
      "outputs": [
        {
          "output_type": "stream",
          "text": [
            "T_train_shape (750, 1714)\n",
            "T_test_shape (250, 1714)\n",
            "Accuracy for yelp data: 0.7960\n",
            "\n",
            "\n",
            "T_train_shape (750, 1546)\n",
            "T_test_shape (250, 1546)\n",
            "Accuracy for amazon data: 0.7960\n",
            "\n",
            "\n",
            "T_train_shape (561, 2505)\n",
            "T_test_shape (187, 2505)\n",
            "Accuracy for imdb data: 0.7487\n",
            "\n",
            "\n"
          ],
          "name": "stdout"
        }
      ]
    },
    {
      "cell_type": "code",
      "metadata": {
        "id": "x1806NmY5NpN",
        "colab_type": "code",
        "colab": {
          "base_uri": "https://localhost:8080/",
          "height": 142
        },
        "outputId": "45723b31-3114-47ab-a955-125ad41c2407"
      },
      "source": [
        "resdf"
      ],
      "execution_count": 156,
      "outputs": [
        {
          "output_type": "execute_result",
          "data": {
            "text/html": [
              "<div>\n",
              "<style scoped>\n",
              "    .dataframe tbody tr th:only-of-type {\n",
              "        vertical-align: middle;\n",
              "    }\n",
              "\n",
              "    .dataframe tbody tr th {\n",
              "        vertical-align: top;\n",
              "    }\n",
              "\n",
              "    .dataframe thead th {\n",
              "        text-align: right;\n",
              "    }\n",
              "</style>\n",
              "<table border=\"1\" class=\"dataframe\">\n",
              "  <thead>\n",
              "    <tr style=\"text-align: right;\">\n",
              "      <th></th>\n",
              "      <th>model</th>\n",
              "      <th>dataset</th>\n",
              "      <th>Train_Runtime</th>\n",
              "      <th>accuracy</th>\n",
              "    </tr>\n",
              "  </thead>\n",
              "  <tbody>\n",
              "    <tr>\n",
              "      <th>0</th>\n",
              "      <td>lr</td>\n",
              "      <td>yelp</td>\n",
              "      <td>0.0298016</td>\n",
              "      <td>0.796000</td>\n",
              "    </tr>\n",
              "    <tr>\n",
              "      <th>1</th>\n",
              "      <td>lr</td>\n",
              "      <td>amazon</td>\n",
              "      <td>NA</td>\n",
              "      <td>0.796000</td>\n",
              "    </tr>\n",
              "    <tr>\n",
              "      <th>2</th>\n",
              "      <td>lr</td>\n",
              "      <td>imdb</td>\n",
              "      <td>NA</td>\n",
              "      <td>0.748663</td>\n",
              "    </tr>\n",
              "  </tbody>\n",
              "</table>\n",
              "</div>"
            ],
            "text/plain": [
              "  model dataset Train_Runtime  accuracy\n",
              "0    lr    yelp     0.0298016  0.796000\n",
              "1    lr  amazon            NA  0.796000\n",
              "2    lr    imdb            NA  0.748663"
            ]
          },
          "metadata": {
            "tags": []
          },
          "execution_count": 156
        }
      ]
    },
    {
      "cell_type": "markdown",
      "metadata": {
        "_uuid": "40150518b8c2f350daeac8043a489c237111431b",
        "id": "VeJ4kvhAzP_Y",
        "colab_type": "text"
      },
      "source": [
        "Great! You can see that this fairly simple model achieves a fairly good accuracy."
      ]
    },
    {
      "cell_type": "markdown",
      "metadata": {
        "_uuid": "fd98829d49fdd69dbd9748c9767cbf4de01ddbd5",
        "id": "idtLaBrRzP_Z",
        "colab_type": "text"
      },
      "source": [
        "## Introduction to Deep Neural Networks\n",
        "**Neural networks**, or sometimes called **artificial neural network (ANN)** or**feedforward neural network**, are computational networks which were vaguely inspired by the neural networks in the human brain. They consist of neurons (also called nodes) which are connected like in the graph below."
      ]
    },
    {
      "cell_type": "markdown",
      "metadata": {
        "_uuid": "45af00ca1e9cdedd560eba5dde52cba51fdd4767",
        "id": "ViEPKxCZzP_Z",
        "colab_type": "text"
      },
      "source": [
        "You start by having a layer of input neurons where you feed in your feature vectors and the values are then feeded forward to a hidden layer. At each connection, you are feeding the value forward, while the value is multiplied by a weight and a bias is added to the value. This happens at every connection and at the end you reach an output layer with one or more output nodes.\n",
        "\n",
        "If you want to have a binary classification you can use one node, but if you have multiple categories you should use multiple nodes for each category:"
      ]
    },
    {
      "cell_type": "markdown",
      "metadata": {
        "_uuid": "b1220c0b5e7bb8fb1dd582634f90766eb170a339",
        "id": "qp6VuDgOzP_c",
        "colab_type": "text"
      },
      "source": [
        "### Introducing Keras\n",
        "\n",
        "Keras is a deep learning and neural networks API by François Chollet which is capable of running on top of Tensorflow (Google), Theano or CNTK (Microsoft). To quote the wonderful book by François Chollet, Deep Learning with Python:\n",
        "\n",
        "    Keras is a model-level library, providing high-level building blocks for developing deep-learning models. It doesn’t handle low-level operations such as tensor manipulation and differentiation. Instead, it relies on a specialized, well-optimized tensor library to do so, serving as the backend engine of Keras (Source)\n",
        "\n",
        "It is a great way to start experimenting with neural networks without having to implement every layer and piece on your own. For example Tensorflow is a great machine learning library, but you have to implement a lot of boilerplate code to have a model running."
      ]
    },
    {
      "cell_type": "markdown",
      "metadata": {
        "_uuid": "20a29d7bf57fb7d112268df29808183e552ec677",
        "id": "R9PRFJ3LzP_c",
        "colab_type": "text"
      },
      "source": [
        "### First Keras Model\n",
        "\n",
        "Keras supports two main types of models. You have the Sequential model API and the functional API which can do everything of the Sequential model but it can be also used for advanced models with complex network architectures.\n",
        "\n",
        "The Sequential model is a linear stack of layers, where you can use the large variety of available layers in Keras. The most common layer is the Dense layer which is your regular densely connected neural network layer with all the weights and biases that you are already familiar with.\n",
        "\n",
        "Before we build our model, we need to know the input dimension of our feature vectors. This happens only in the first layer since the following layers can do automatic shape inference. In order to build the Sequential model, you can add layers one by one in order"
      ]
    },
    {
      "cell_type": "code",
      "metadata": {
        "trusted": true,
        "id": "I0ScHqzPzP_d",
        "colab_type": "code",
        "colab": {}
      },
      "source": [
        "import keras\n",
        "from keras import Sequential"
      ],
      "execution_count": 157,
      "outputs": []
    },
    {
      "cell_type": "code",
      "metadata": {
        "id": "_sVIEQbU9bRr",
        "colab_type": "code",
        "colab": {
          "base_uri": "https://localhost:8080/",
          "height": 34
        },
        "outputId": "1200f2d7-0bde-4b12-ec56-6c8e1b76afc5"
      },
      "source": [
        "X_train.shape"
      ],
      "execution_count": 158,
      "outputs": [
        {
          "output_type": "execute_result",
          "data": {
            "text/plain": [
              "(561, 2505)"
            ]
          },
          "metadata": {
            "tags": []
          },
          "execution_count": 158
        }
      ]
    },
    {
      "cell_type": "code",
      "metadata": {
        "trusted": true,
        "_uuid": "aac9e9b76e57a9fb86ddb47641c0b4162cb187a9",
        "id": "QRya99SbzP_f",
        "colab_type": "code",
        "colab": {}
      },
      "source": [
        "input_dim = X_train.shape[1]  # Number of features\n",
        "\n",
        "model = Sequential()\n",
        "model.add(layers.Dense(10, input_dim=input_dim, activation='relu'))\n",
        "model.add(layers.Dense(1, activation='sigmoid'))"
      ],
      "execution_count": 159,
      "outputs": []
    },
    {
      "cell_type": "code",
      "metadata": {
        "trusted": true,
        "_uuid": "ce727fbc7435f8067d25a941f62ddb9104b61b99",
        "id": "F0bg4E6LzP_l",
        "colab_type": "code",
        "colab": {
          "base_uri": "https://localhost:8080/",
          "height": 221
        },
        "outputId": "758c5517-0178-4fa4-d763-fdccce74cdeb"
      },
      "source": [
        "model.compile(loss='binary_crossentropy', \n",
        "              optimizer='adam', \n",
        "              metrics=['accuracy'])\n",
        "model.summary()"
      ],
      "execution_count": 160,
      "outputs": [
        {
          "output_type": "stream",
          "text": [
            "Model: \"sequential_5\"\n",
            "_________________________________________________________________\n",
            "Layer (type)                 Output Shape              Param #   \n",
            "=================================================================\n",
            "dense_10 (Dense)             (None, 10)                25060     \n",
            "_________________________________________________________________\n",
            "dense_11 (Dense)             (None, 1)                 11        \n",
            "=================================================================\n",
            "Total params: 25,071\n",
            "Trainable params: 25,071\n",
            "Non-trainable params: 0\n",
            "_________________________________________________________________\n"
          ],
          "name": "stdout"
        }
      ]
    },
    {
      "cell_type": "code",
      "metadata": {
        "trusted": true,
        "_uuid": "edebe70a32227f73b9ddd91e5f54691f7571ee82",
        "id": "9UM_QIJszP_o",
        "colab_type": "code",
        "colab": {}
      },
      "source": [
        "start_time = time.time()\n",
        "\n",
        "history = model.fit(X_train, y_train,\n",
        "                    epochs=15,\n",
        "                    verbose=False,\n",
        "                    validation_data=(X_test, y_test),\n",
        "                    batch_size=10)\n",
        "\n",
        "rtime = time.time() - start_time \n"
      ],
      "execution_count": 161,
      "outputs": []
    },
    {
      "cell_type": "code",
      "metadata": {
        "id": "aXD5Lcsz-lRF",
        "colab_type": "code",
        "colab": {}
      },
      "source": [
        "# idx=1"
      ],
      "execution_count": 162,
      "outputs": []
    },
    {
      "cell_type": "code",
      "metadata": {
        "trusted": true,
        "_uuid": "e8569a049fd01db63a8e36554a4855be05aa7295",
        "id": "0y23jofUzP_q",
        "colab_type": "code",
        "colab": {
          "base_uri": "https://localhost:8080/",
          "height": 51
        },
        "outputId": "da504e0e-f9cf-4854-bc39-989ad829f1b0"
      },
      "source": [
        "loss, accuracy = model.evaluate(X_train, y_train, verbose=False)\n",
        "print(\"Training Accuracy: {:.4f}\".format(accuracy))\n",
        "loss, accuracy = model.evaluate(X_test, y_test, verbose=False)\n",
        "print(\"Testing Accuracy:  {:.4f}\".format(accuracy))\n"
      ],
      "execution_count": 163,
      "outputs": [
        {
          "output_type": "stream",
          "text": [
            "Training Accuracy: 0.9982\n",
            "Testing Accuracy:  0.7861\n"
          ],
          "name": "stdout"
        }
      ]
    },
    {
      "cell_type": "code",
      "metadata": {
        "id": "otfAFjcbBmfl",
        "colab_type": "code",
        "colab": {
          "base_uri": "https://localhost:8080/",
          "height": 142
        },
        "outputId": "0b11caa8-bcc3-445c-ebd2-7a9e03b80551"
      },
      "source": [
        "resdf"
      ],
      "execution_count": 164,
      "outputs": [
        {
          "output_type": "execute_result",
          "data": {
            "text/html": [
              "<div>\n",
              "<style scoped>\n",
              "    .dataframe tbody tr th:only-of-type {\n",
              "        vertical-align: middle;\n",
              "    }\n",
              "\n",
              "    .dataframe tbody tr th {\n",
              "        vertical-align: top;\n",
              "    }\n",
              "\n",
              "    .dataframe thead th {\n",
              "        text-align: right;\n",
              "    }\n",
              "</style>\n",
              "<table border=\"1\" class=\"dataframe\">\n",
              "  <thead>\n",
              "    <tr style=\"text-align: right;\">\n",
              "      <th></th>\n",
              "      <th>model</th>\n",
              "      <th>dataset</th>\n",
              "      <th>Train_Runtime</th>\n",
              "      <th>accuracy</th>\n",
              "    </tr>\n",
              "  </thead>\n",
              "  <tbody>\n",
              "    <tr>\n",
              "      <th>0</th>\n",
              "      <td>lr</td>\n",
              "      <td>yelp</td>\n",
              "      <td>0.0298016</td>\n",
              "      <td>0.796000</td>\n",
              "    </tr>\n",
              "    <tr>\n",
              "      <th>1</th>\n",
              "      <td>lr</td>\n",
              "      <td>amazon</td>\n",
              "      <td>NA</td>\n",
              "      <td>0.796000</td>\n",
              "    </tr>\n",
              "    <tr>\n",
              "      <th>2</th>\n",
              "      <td>lr</td>\n",
              "      <td>imdb</td>\n",
              "      <td>NA</td>\n",
              "      <td>0.748663</td>\n",
              "    </tr>\n",
              "  </tbody>\n",
              "</table>\n",
              "</div>"
            ],
            "text/plain": [
              "  model dataset Train_Runtime  accuracy\n",
              "0    lr    yelp     0.0298016  0.796000\n",
              "1    lr  amazon            NA  0.796000\n",
              "2    lr    imdb            NA  0.748663"
            ]
          },
          "metadata": {
            "tags": []
          },
          "execution_count": 164
        }
      ]
    },
    {
      "cell_type": "code",
      "metadata": {
        "id": "GlTyaLjB-opu",
        "colab_type": "code",
        "colab": {
          "base_uri": "https://localhost:8080/",
          "height": 173
        },
        "outputId": "ae34b368-f63e-4fb8-b19b-422c3288d0b1"
      },
      "source": [
        "# start_time = time.time() \n",
        "# rtime = time.time() - start_time \n",
        "idx=3\n",
        "resdf.loc[idx]=['seq_dnn1_eps15','imdb',rtime, accuracy]\n",
        "idx+=1\n",
        "resdf\n"
      ],
      "execution_count": 166,
      "outputs": [
        {
          "output_type": "execute_result",
          "data": {
            "text/html": [
              "<div>\n",
              "<style scoped>\n",
              "    .dataframe tbody tr th:only-of-type {\n",
              "        vertical-align: middle;\n",
              "    }\n",
              "\n",
              "    .dataframe tbody tr th {\n",
              "        vertical-align: top;\n",
              "    }\n",
              "\n",
              "    .dataframe thead th {\n",
              "        text-align: right;\n",
              "    }\n",
              "</style>\n",
              "<table border=\"1\" class=\"dataframe\">\n",
              "  <thead>\n",
              "    <tr style=\"text-align: right;\">\n",
              "      <th></th>\n",
              "      <th>model</th>\n",
              "      <th>dataset</th>\n",
              "      <th>Train_Runtime</th>\n",
              "      <th>accuracy</th>\n",
              "    </tr>\n",
              "  </thead>\n",
              "  <tbody>\n",
              "    <tr>\n",
              "      <th>0</th>\n",
              "      <td>lr</td>\n",
              "      <td>yelp</td>\n",
              "      <td>0.0298016</td>\n",
              "      <td>0.796000</td>\n",
              "    </tr>\n",
              "    <tr>\n",
              "      <th>1</th>\n",
              "      <td>lr</td>\n",
              "      <td>amazon</td>\n",
              "      <td>NA</td>\n",
              "      <td>0.796000</td>\n",
              "    </tr>\n",
              "    <tr>\n",
              "      <th>2</th>\n",
              "      <td>lr</td>\n",
              "      <td>imdb</td>\n",
              "      <td>NA</td>\n",
              "      <td>0.748663</td>\n",
              "    </tr>\n",
              "    <tr>\n",
              "      <th>3</th>\n",
              "      <td>seq_dnn1_eps15</td>\n",
              "      <td>imdb</td>\n",
              "      <td>2.44315</td>\n",
              "      <td>0.786096</td>\n",
              "    </tr>\n",
              "  </tbody>\n",
              "</table>\n",
              "</div>"
            ],
            "text/plain": [
              "            model dataset Train_Runtime  accuracy\n",
              "0              lr    yelp     0.0298016  0.796000\n",
              "1              lr  amazon            NA  0.796000\n",
              "2              lr    imdb            NA  0.748663\n",
              "3  seq_dnn1_eps15    imdb       2.44315  0.786096"
            ]
          },
          "metadata": {
            "tags": []
          },
          "execution_count": 166
        }
      ]
    },
    {
      "cell_type": "code",
      "metadata": {
        "trusted": true,
        "_uuid": "a4a3fc45fe1b3dc344ff30dd5c1982d9734bfe4e",
        "id": "nwYryP7rzP_s",
        "colab_type": "code",
        "colab": {}
      },
      "source": [
        "def plot_history(history):\n",
        "    # acc = history.history['acc']\n",
        "    acc = history.history['accuracy']\n",
        "    val_acc = history.history['val_accuracy']\n",
        "    # val_acc = history.history['val_acc']\n",
        "    loss = history.history['loss']\n",
        "    val_loss = history.history['val_loss']\n",
        "    x = range(1, len(acc) + 1)\n",
        "\n",
        "    plt.figure(figsize=(12, 5))\n",
        "    plt.subplot(1, 2, 1)\n",
        "    plt.plot(x, acc, 'b', label='Training acc')\n",
        "    plt.plot(x, val_acc, 'r', label='Validation acc')\n",
        "    plt.title('Training and validation accuracy')\n",
        "    plt.legend()\n",
        "    plt.subplot(1, 2, 2)\n",
        "    plt.plot(x, loss, 'b', label='Training loss')\n",
        "    plt.plot(x, val_loss, 'r', label='Validation loss')\n",
        "    plt.title('Training and validation loss')\n",
        "    plt.legend()"
      ],
      "execution_count": 167,
      "outputs": []
    },
    {
      "cell_type": "code",
      "metadata": {
        "id": "4fa3HHSy-8nl",
        "colab_type": "code",
        "colab": {}
      },
      "source": [
        "# history.history['accuracy']"
      ],
      "execution_count": 168,
      "outputs": []
    },
    {
      "cell_type": "code",
      "metadata": {
        "trusted": true,
        "_uuid": "bcc0bc67371a228af0bebb22b9b95dcd5276c58e",
        "id": "0ZiIZHhizP_w",
        "colab_type": "code",
        "colab": {
          "base_uri": "https://localhost:8080/",
          "height": 337
        },
        "outputId": "56a7bebf-2650-4dcc-e1c8-d6b3cbeedadb"
      },
      "source": [
        "plot_history(history)"
      ],
      "execution_count": 169,
      "outputs": [
        {
          "output_type": "display_data",
          "data": {
            "image/png": "[encoded data removed]",
            "text/plain": [
              "<Figure size 864x360 with 2 Axes>"
            ]
          },
          "metadata": {
            "tags": []
          }
        }
      ]
    },
    {
      "cell_type": "markdown",
      "metadata": {
        "trusted": true,
        "_uuid": "ea9e401688489ddccdd8b028bc962101d1f50d0c",
        "id": "AYh1JpMrzP_y",
        "colab_type": "text"
      },
      "source": [
        "## What Is a Word Embedding?\n",
        "\n",
        "Text is considered a form of sequence data similar to time series data that you would have in weather data or financial data. Now you will see how to represent each word as vectors. There are various ways to vectorize text, such as:\n",
        "\n",
        "* Words represented by each word as a vector\n",
        "* Characters represented by each character as a vector\n",
        "* N-grams of words/characters represented as a vector (N-grams are overlapping groups of multiple succeeding words/characters in the text)\n",
        "\n",
        "Here, you’ll see how to deal with representing words as vectors which is the common way to use text in neural networks. Two possible ways to represent a word as a vector are one-hot encoding and word embeddings.\n",
        "\n",
        "**One-Hot Encoding**\n",
        "\n",
        "The first way to represent a word as a vector is by creating a so-called one-hot encoding, which is simply done by taking a vector of the length of the vocabulary with an entry for each word in the corpus.\n",
        "\n",
        "In this way, you have for each word, given it has a spot in the vocabulary, a vector with zeros everywhere except for the corresponding spot for the word which is set to one."
      ]
    },
    {
      "cell_type": "code",
      "metadata": {
        "trusted": true,
        "_uuid": "e70cf30124b97e5354817229035e448717599353",
        "id": "XjgkJehSzP_z",
        "colab_type": "code",
        "colab": {
          "base_uri": "https://localhost:8080/",
          "height": 34
        },
        "outputId": "f3a86191-10ad-4ca5-926e-07d711a3b62c"
      },
      "source": [
        "cities = ['London', 'Berlin', 'Berlin', 'New York', 'London']\n",
        "cities"
      ],
      "execution_count": 170,
      "outputs": [
        {
          "output_type": "execute_result",
          "data": {
            "text/plain": [
              "['London', 'Berlin', 'Berlin', 'New York', 'London']"
            ]
          },
          "metadata": {
            "tags": []
          },
          "execution_count": 170
        }
      ]
    },
    {
      "cell_type": "markdown",
      "metadata": {
        "_uuid": "fa32a60f2a6f313ea8bc440942f2d489998b6a0c",
        "id": "caexiUyjzP_2",
        "colab_type": "text"
      },
      "source": [
        "`LabelEncoder` to encode the list of cities into categorical integer values"
      ]
    },
    {
      "cell_type": "code",
      "metadata": {
        "trusted": true,
        "_uuid": "3d4ecdc38e764ecfeb1f0d78a16ecf423983cdb9",
        "id": "JWkUCz1dzP_2",
        "colab_type": "code",
        "colab": {
          "base_uri": "https://localhost:8080/",
          "height": 34
        },
        "outputId": "e58e81b5-a57b-4353-f018-d33025c7bff2"
      },
      "source": [
        "encoder = LabelEncoder()\n",
        "city_labels = encoder.fit_transform(cities)\n",
        "city_labels"
      ],
      "execution_count": 171,
      "outputs": [
        {
          "output_type": "execute_result",
          "data": {
            "text/plain": [
              "array([1, 0, 0, 2, 1])"
            ]
          },
          "metadata": {
            "tags": []
          },
          "execution_count": 171
        }
      ]
    },
    {
      "cell_type": "markdown",
      "metadata": {
        "_uuid": "da045f493813e22a4bf274d8e68a7adbcaa39cf8",
        "id": "9eGIh2plzP_5",
        "colab_type": "text"
      },
      "source": [
        "OneHotEncoder expects each categorical value to be in a separate row, so you’ll need to reshape the array, then you can apply the encoder:"
      ]
    },
    {
      "cell_type": "code",
      "metadata": {
        "trusted": true,
        "_uuid": "a811470d725cfc3edacc04cfb8ff40050408b93c",
        "id": "tS_Qh7x2zP_5",
        "colab_type": "code",
        "colab": {
          "base_uri": "https://localhost:8080/",
          "height": 102
        },
        "outputId": "75edbb00-03a1-4f20-cb48-63506f8c22a4"
      },
      "source": [
        "encoder = OneHotEncoder(sparse=False)\n",
        "city_labels = city_labels.reshape((5, 1))\n",
        "encoder.fit_transform(city_labels)"
      ],
      "execution_count": 172,
      "outputs": [
        {
          "output_type": "execute_result",
          "data": {
            "text/plain": [
              "array([[0., 1., 0.],\n",
              "       [1., 0., 0.],\n",
              "       [1., 0., 0.],\n",
              "       [0., 0., 1.],\n",
              "       [0., 1., 0.]])"
            ]
          },
          "metadata": {
            "tags": []
          },
          "execution_count": 172
        }
      ]
    },
    {
      "cell_type": "code",
      "metadata": {
        "id": "jgIKJVkD74VW",
        "colab_type": "code",
        "colab": {
          "base_uri": "https://localhost:8080/",
          "height": 34
        },
        "outputId": "8050c9e7-ef05-498a-9b27-0c603d2c0dfa"
      },
      "source": [
        "# tokenizer.word_counts\n",
        "tokenizer.num_words\n"
      ],
      "execution_count": 173,
      "outputs": [
        {
          "output_type": "execute_result",
          "data": {
            "text/plain": [
              "5000"
            ]
          },
          "metadata": {
            "tags": []
          },
          "execution_count": 173
        }
      ]
    },
    {
      "cell_type": "markdown",
      "metadata": {
        "_uuid": "9005576faab272d4533590b721b525e726b9b4a4",
        "id": "NBbTJpuazP_8",
        "colab_type": "text"
      },
      "source": [
        "**Word Embeddings**\n",
        "\n",
        "This method represents words as dense word vectors (also called word embeddings) which are trained unlike the one-hot encoding which are hardcoded. This means that the word embeddings collect more information into fewer dimensions.\n",
        "\n",
        "Note that the word embeddings do not understand the text as a human would, but they rather map the statistical structure of the language used in the corpus. Their aim is to map semantic meaning into a geometric space. This geometric space is then called the embedding space.\n",
        "\n",
        "Now you need to tokenize the data into a format that can be used by the word embeddings. Keras offers a couple of convenience methods for text preprocessing and sequence preprocessing which you can employ to prepare your text.\n",
        "\n",
        "You can start by using the Tokenizer utility class which can vectorize a text corpus into a list of integers. Each integer maps to a value in a dictionary that encodes the entire corpus, with the keys in the dictionary being the vocabulary terms themselves. You can add the parameter num_words, which is responsible for setting the size of the vocabulary. The most common num_words words will be then kept."
      ]
    },
    {
      "cell_type": "code",
      "metadata": {
        "trusted": true,
        "_uuid": "19df1b964d253c06f51e5392b2385bb97e70ed88",
        "id": "B81DurbdzP_8",
        "colab_type": "code",
        "colab": {
          "base_uri": "https://localhost:8080/",
          "height": 51
        },
        "outputId": "6c7028f2-c8eb-4da6-bf3d-b2f059adbcbb"
      },
      "source": [
        "tokenizer = Tokenizer(num_words=5000)\n",
        "tokenizer.fit_on_texts(sentences_train)\n",
        "\n",
        "X_train = tokenizer.texts_to_sequences(sentences_train)\n",
        "X_test = tokenizer.texts_to_sequences(sentences_test)\n",
        "\n",
        "vocab_size = len(tokenizer.word_index) + 1  # Adding 1 because of reserved 0 index\n",
        "\n",
        "print(sentences_train[2])\n",
        "print(X_train[2])"
      ],
      "execution_count": 174,
      "outputs": [
        {
          "output_type": "stream",
          "text": [
            "I am a fan of his ... This movie sucked really bad.  \n",
            "[7, 150, 2, 932, 4, 49, 6, 11, 563, 45, 30]\n"
          ],
          "name": "stdout"
        }
      ]
    },
    {
      "cell_type": "code",
      "metadata": {
        "id": "GM9iklMGCcfK",
        "colab_type": "code",
        "colab": {
          "base_uri": "https://localhost:8080/",
          "height": 34
        },
        "outputId": "3e91f0de-4ef7-4ca0-d6bb-70ef74f52782"
      },
      "source": [
        "len(X_train)"
      ],
      "execution_count": 175,
      "outputs": [
        {
          "output_type": "execute_result",
          "data": {
            "text/plain": [
              "561"
            ]
          },
          "metadata": {
            "tags": []
          },
          "execution_count": 175
        }
      ]
    },
    {
      "cell_type": "code",
      "metadata": {
        "id": "n7FhUlxMCbtv",
        "colab_type": "code",
        "colab": {
          "base_uri": "https://localhost:8080/",
          "height": 34
        },
        "outputId": "6281727c-e7ee-4702-fe8b-c3412ede941c"
      },
      "source": [
        "allsentences_length = [len(x) for x in sentences]\n",
        "print('min={}, mean={}, median={}, max={}'.format(   np.min(allsentences_length) ,\n",
        "                                                     np.mean(allsentences_length) ,\n",
        "                                                  np.median(allsentences_length) ,\n",
        "                                                  np.max(allsentences_length) ) )"
      ],
      "execution_count": 176,
      "outputs": [
        {
          "output_type": "stream",
          "text": [
            "min=7, mean=110.98663101604278, median=72.0, max=7944\n"
          ],
          "name": "stdout"
        }
      ]
    },
    {
      "cell_type": "code",
      "metadata": {
        "id": "roY14KcdDPQk",
        "colab_type": "code",
        "colab": {}
      },
      "source": [
        "#"
      ],
      "execution_count": 177,
      "outputs": []
    },
    {
      "cell_type": "code",
      "metadata": {
        "trusted": true,
        "_uuid": "a7f9e7a00eb777752eb95bfac883bd9e2eee74ca",
        "id": "BXsX7Z5VzQAB",
        "colab_type": "code",
        "colab": {
          "base_uri": "https://localhost:8080/",
          "height": 68
        },
        "outputId": "415d0369-1119-47bd-d343-0603e122b485"
      },
      "source": [
        "for word in ['the', 'all','fan']:\n",
        "    print('{}: {}'.format(word, tokenizer.word_index[word]))"
      ],
      "execution_count": 178,
      "outputs": [
        {
          "output_type": "stream",
          "text": [
            "the: 1\n",
            "all: 27\n",
            "fan: 932\n"
          ],
          "name": "stdout"
        }
      ]
    },
    {
      "cell_type": "markdown",
      "metadata": {
        "_uuid": "e5f5896fe077325548dd5f6a59f6e806c0d5da23",
        "id": "3_rwjK2hzQAI",
        "colab_type": "text"
      },
      "source": [
        "** pad sequences with Keras**"
      ]
    },
    {
      "cell_type": "code",
      "metadata": {
        "trusted": true,
        "_uuid": "f76a6270c28c045567f1db6525034c72669dcc06",
        "id": "m5F6-XPizQAI",
        "colab_type": "code",
        "colab": {
          "base_uri": "https://localhost:8080/",
          "height": 136
        },
        "outputId": "a609b74e-5edb-4484-a869-9eea4a04f83c"
      },
      "source": [
        "maxlen = 120\n",
        "\n",
        "X_train = pad_sequences(X_train, padding='post', maxlen=maxlen)\n",
        "X_test = pad_sequences(X_test, padding='post', maxlen=maxlen)\n",
        "\n",
        "print(X_train[0, :])"
      ],
      "execution_count": 179,
      "outputs": [
        {
          "output_type": "stream",
          "text": [
            "[170 116 390  35   0   0   0   0   0   0   0   0   0   0   0   0   0   0\n",
            "   0   0   0   0   0   0   0   0   0   0   0   0   0   0   0   0   0   0\n",
            "   0   0   0   0   0   0   0   0   0   0   0   0   0   0   0   0   0   0\n",
            "   0   0   0   0   0   0   0   0   0   0   0   0   0   0   0   0   0   0\n",
            "   0   0   0   0   0   0   0   0   0   0   0   0   0   0   0   0   0   0\n",
            "   0   0   0   0   0   0   0   0   0   0   0   0   0   0   0   0   0   0\n",
            "   0   0   0   0   0   0   0   0   0   0   0   0]\n"
          ],
          "name": "stdout"
        }
      ]
    },
    {
      "cell_type": "markdown",
      "metadata": {
        "_uuid": "73f8ef7851a32479c2d932d33c4c609e21f7cd33",
        "id": "dXaL0j60zQAM",
        "colab_type": "text"
      },
      "source": [
        "### Keras Embedding Layer\n",
        "\n",
        "Now you can use the Embedding Layer of Keras which takes the previously calculated integers and maps them to a dense vector of the embedding. You will need the following parameters:\n",
        "* **input_dim**: the size of the vocabulary\n",
        "* **output_dim**: the size of the dense vector\n",
        "* **input_length**: the length of the sequence\n",
        "\n",
        "With the Embedding layer we have now a couple of options. One way would be to take the output of the embedding layer and plug it into a Dense layer. In order to do this you have to add a Flatten layer in between that prepares the sequential input for the Dense layer:"
      ]
    },
    {
      "cell_type": "code",
      "metadata": {
        "trusted": true,
        "_uuid": "0294cc68d4f93cd6bd3cf0080309cc7047f4daec",
        "id": "NZOJ41T7zQAM",
        "colab_type": "code",
        "colab": {
          "base_uri": "https://localhost:8080/",
          "height": 289
        },
        "outputId": "37fa47b8-a878-4240-a336-f82e6d97de75"
      },
      "source": [
        "embedding_dim = 200\n",
        "\n",
        "model = Sequential()\n",
        "model.add(layers.Embedding(input_dim=vocab_size, \n",
        "                           output_dim=embedding_dim, \n",
        "                           input_length=maxlen))\n",
        "model.add(layers.Flatten())\n",
        "model.add(layers.Dense(10, activation='relu'))\n",
        "model.add(layers.Dense(1, activation='sigmoid'))\n",
        "model.compile(optimizer='adam',\n",
        "              loss='binary_crossentropy',\n",
        "              metrics=['accuracy'])\n",
        "model.summary()"
      ],
      "execution_count": 180,
      "outputs": [
        {
          "output_type": "stream",
          "text": [
            "Model: \"sequential_6\"\n",
            "_________________________________________________________________\n",
            "Layer (type)                 Output Shape              Param #   \n",
            "=================================================================\n",
            "embedding_2 (Embedding)      (None, 120, 200)          515000    \n",
            "_________________________________________________________________\n",
            "flatten_2 (Flatten)          (None, 24000)             0         \n",
            "_________________________________________________________________\n",
            "dense_12 (Dense)             (None, 10)                240010    \n",
            "_________________________________________________________________\n",
            "dense_13 (Dense)             (None, 1)                 11        \n",
            "=================================================================\n",
            "Total params: 755,021\n",
            "Trainable params: 755,021\n",
            "Non-trainable params: 0\n",
            "_________________________________________________________________\n"
          ],
          "name": "stdout"
        }
      ]
    },
    {
      "cell_type": "code",
      "metadata": {
        "id": "iwBBrrZsETdX",
        "colab_type": "code",
        "colab": {
          "base_uri": "https://localhost:8080/",
          "height": 190
        },
        "outputId": "7dd2d8e1-332e-4981-99a5-ad4eec0a063b"
      },
      "source": [
        "print(X_train.shape)\n",
        "resdf"
      ],
      "execution_count": 181,
      "outputs": [
        {
          "output_type": "stream",
          "text": [
            "(561, 120)\n"
          ],
          "name": "stdout"
        },
        {
          "output_type": "execute_result",
          "data": {
            "text/html": [
              "<div>\n",
              "<style scoped>\n",
              "    .dataframe tbody tr th:only-of-type {\n",
              "        vertical-align: middle;\n",
              "    }\n",
              "\n",
              "    .dataframe tbody tr th {\n",
              "        vertical-align: top;\n",
              "    }\n",
              "\n",
              "    .dataframe thead th {\n",
              "        text-align: right;\n",
              "    }\n",
              "</style>\n",
              "<table border=\"1\" class=\"dataframe\">\n",
              "  <thead>\n",
              "    <tr style=\"text-align: right;\">\n",
              "      <th></th>\n",
              "      <th>model</th>\n",
              "      <th>dataset</th>\n",
              "      <th>Train_Runtime</th>\n",
              "      <th>accuracy</th>\n",
              "    </tr>\n",
              "  </thead>\n",
              "  <tbody>\n",
              "    <tr>\n",
              "      <th>0</th>\n",
              "      <td>lr</td>\n",
              "      <td>yelp</td>\n",
              "      <td>0.0298016</td>\n",
              "      <td>0.796000</td>\n",
              "    </tr>\n",
              "    <tr>\n",
              "      <th>1</th>\n",
              "      <td>lr</td>\n",
              "      <td>amazon</td>\n",
              "      <td>NA</td>\n",
              "      <td>0.796000</td>\n",
              "    </tr>\n",
              "    <tr>\n",
              "      <th>2</th>\n",
              "      <td>lr</td>\n",
              "      <td>imdb</td>\n",
              "      <td>NA</td>\n",
              "      <td>0.748663</td>\n",
              "    </tr>\n",
              "    <tr>\n",
              "      <th>3</th>\n",
              "      <td>seq_dnn1_eps15</td>\n",
              "      <td>imdb</td>\n",
              "      <td>2.44315</td>\n",
              "      <td>0.786096</td>\n",
              "    </tr>\n",
              "  </tbody>\n",
              "</table>\n",
              "</div>"
            ],
            "text/plain": [
              "            model dataset Train_Runtime  accuracy\n",
              "0              lr    yelp     0.0298016  0.796000\n",
              "1              lr  amazon            NA  0.796000\n",
              "2              lr    imdb            NA  0.748663\n",
              "3  seq_dnn1_eps15    imdb       2.44315  0.786096"
            ]
          },
          "metadata": {
            "tags": []
          },
          "execution_count": 181
        }
      ]
    },
    {
      "cell_type": "code",
      "metadata": {
        "trusted": true,
        "_uuid": "046c27a78bb27f05cd3f731ae9fb6fbfabf471bc",
        "id": "zhousu3AzQAP",
        "colab_type": "code",
        "colab": {
          "base_uri": "https://localhost:8080/",
          "height": 371
        },
        "outputId": "33efa859-e09e-4d69-b5c3-c57ee0e64a81"
      },
      "source": [
        "start_time = time.time()\n",
        "\n",
        "history = model.fit(X_train, y_train,\n",
        "                    epochs=20,\n",
        "                    verbose=False,\n",
        "                    validation_data=(X_test, y_test),\n",
        "                    batch_size=10)\n",
        "\n",
        "rtime =  time.time() - start_time \n",
        "\n",
        "loss, accuracy = model.evaluate(X_train, y_train, verbose=False)\n",
        "print(\"Training Accuracy: {:.4f}\".format(accuracy))\n",
        "\n",
        "loss, accuracy = model.evaluate(X_test, y_test, verbose=False)\n",
        "print(\"Testing Accuracy:  {:.4f}\".format(accuracy))\n",
        "\n",
        "plot_history(history)"
      ],
      "execution_count": 182,
      "outputs": [
        {
          "output_type": "stream",
          "text": [
            "Training Accuracy: 1.0000\n",
            "Testing Accuracy:  0.6845\n"
          ],
          "name": "stdout"
        },
        {
          "output_type": "display_data",
          "data": {
            "image/png": "[encoded data removed]",
            "text/plain": [
              "<Figure size 864x360 with 2 Axes>"
            ]
          },
          "metadata": {
            "tags": []
          }
        }
      ]
    },
    {
      "cell_type": "code",
      "metadata": {
        "id": "8d2hoqZZE-9s",
        "colab_type": "code",
        "colab": {
          "base_uri": "https://localhost:8080/",
          "height": 204
        },
        "outputId": "440e5e02-2b79-4d8c-b89c-2e2f0328cb2e"
      },
      "source": [
        "idx=4\n",
        "resdf.loc[idx]=['seq_dnn2_eps20_emb200','imdb',rtime, accuracy]\n",
        "idx+=1\n",
        "resdf\n"
      ],
      "execution_count": 183,
      "outputs": [
        {
          "output_type": "execute_result",
          "data": {
            "text/html": [
              "<div>\n",
              "<style scoped>\n",
              "    .dataframe tbody tr th:only-of-type {\n",
              "        vertical-align: middle;\n",
              "    }\n",
              "\n",
              "    .dataframe tbody tr th {\n",
              "        vertical-align: top;\n",
              "    }\n",
              "\n",
              "    .dataframe thead th {\n",
              "        text-align: right;\n",
              "    }\n",
              "</style>\n",
              "<table border=\"1\" class=\"dataframe\">\n",
              "  <thead>\n",
              "    <tr style=\"text-align: right;\">\n",
              "      <th></th>\n",
              "      <th>model</th>\n",
              "      <th>dataset</th>\n",
              "      <th>Train_Runtime</th>\n",
              "      <th>accuracy</th>\n",
              "    </tr>\n",
              "  </thead>\n",
              "  <tbody>\n",
              "    <tr>\n",
              "      <th>0</th>\n",
              "      <td>lr</td>\n",
              "      <td>yelp</td>\n",
              "      <td>0.0298016</td>\n",
              "      <td>0.796000</td>\n",
              "    </tr>\n",
              "    <tr>\n",
              "      <th>1</th>\n",
              "      <td>lr</td>\n",
              "      <td>amazon</td>\n",
              "      <td>NA</td>\n",
              "      <td>0.796000</td>\n",
              "    </tr>\n",
              "    <tr>\n",
              "      <th>2</th>\n",
              "      <td>lr</td>\n",
              "      <td>imdb</td>\n",
              "      <td>NA</td>\n",
              "      <td>0.748663</td>\n",
              "    </tr>\n",
              "    <tr>\n",
              "      <th>3</th>\n",
              "      <td>seq_dnn1_eps15</td>\n",
              "      <td>imdb</td>\n",
              "      <td>2.44315</td>\n",
              "      <td>0.786096</td>\n",
              "    </tr>\n",
              "    <tr>\n",
              "      <th>4</th>\n",
              "      <td>seq_dnn2_eps20_emb200</td>\n",
              "      <td>imdb</td>\n",
              "      <td>8.74728</td>\n",
              "      <td>0.684492</td>\n",
              "    </tr>\n",
              "  </tbody>\n",
              "</table>\n",
              "</div>"
            ],
            "text/plain": [
              "                   model dataset Train_Runtime  accuracy\n",
              "0                     lr    yelp     0.0298016  0.796000\n",
              "1                     lr  amazon            NA  0.796000\n",
              "2                     lr    imdb            NA  0.748663\n",
              "3         seq_dnn1_eps15    imdb       2.44315  0.786096\n",
              "4  seq_dnn2_eps20_emb200    imdb       8.74728  0.684492"
            ]
          },
          "metadata": {
            "tags": []
          },
          "execution_count": 183
        }
      ]
    },
    {
      "cell_type": "markdown",
      "metadata": {
        "_uuid": "80959ffdd0007815cf8029424a3ac9a99b6ea0f3",
        "id": "g7rVZ2BrzQAU",
        "colab_type": "text"
      },
      "source": [
        "Global max/average pooling takes the maximum/average of all features whereas in the other case you have to define the pool size. Keras has again its own layer that you can add in the sequential model:"
      ]
    },
    {
      "cell_type": "code",
      "metadata": {
        "trusted": true,
        "_uuid": "4e6fe427c11f4ef8b93b00a4ddd0543f955437a3",
        "id": "J1QLGELOzQAV",
        "colab_type": "code",
        "colab": {
          "base_uri": "https://localhost:8080/",
          "height": 289
        },
        "outputId": "b969dfd1-9a2e-4d7e-d785-7d3ba73f3e09"
      },
      "source": [
        "embedding_dim = 50\n",
        "\n",
        "model = Sequential()\n",
        "model.add(layers.Embedding(input_dim=vocab_size, \n",
        "                           output_dim=embedding_dim, \n",
        "                           input_length=maxlen))\n",
        "model.add(layers.GlobalMaxPool1D())\n",
        "model.add(layers.Dense(10, activation='relu'))\n",
        "model.add(layers.Dense(1, activation='sigmoid'))\n",
        "model.compile(optimizer='adam',\n",
        "              loss='binary_crossentropy',\n",
        "              metrics=['accuracy'])\n",
        "model.summary()"
      ],
      "execution_count": 185,
      "outputs": [
        {
          "output_type": "stream",
          "text": [
            "Model: \"sequential_8\"\n",
            "_________________________________________________________________\n",
            "Layer (type)                 Output Shape              Param #   \n",
            "=================================================================\n",
            "embedding_4 (Embedding)      (None, 120, 50)           128750    \n",
            "_________________________________________________________________\n",
            "global_max_pooling1d_1 (Glob (None, 50)                0         \n",
            "_________________________________________________________________\n",
            "dense_16 (Dense)             (None, 10)                510       \n",
            "_________________________________________________________________\n",
            "dense_17 (Dense)             (None, 1)                 11        \n",
            "=================================================================\n",
            "Total params: 129,271\n",
            "Trainable params: 129,271\n",
            "Non-trainable params: 0\n",
            "_________________________________________________________________\n"
          ],
          "name": "stdout"
        }
      ]
    },
    {
      "cell_type": "code",
      "metadata": {
        "trusted": true,
        "_uuid": "f006794931241f2e77093d719252ee1dfc94828b",
        "id": "tuhYRQf_zQAZ",
        "colab_type": "code",
        "colab": {
          "base_uri": "https://localhost:8080/",
          "height": 371
        },
        "outputId": "4ece8baa-d8f8-46f7-c740-5a685fd63b64"
      },
      "source": [
        "start_time = time.time()\n",
        "history = model.fit(X_train, y_train,\n",
        "                    epochs=50,\n",
        "                    verbose=False,\n",
        "                    validation_data=(X_test, y_test),\n",
        "                    batch_size=10)\n",
        "rtime = time.time() - start_time\n",
        "\n",
        "loss, accuracy = model.evaluate(X_train, y_train, verbose=False)\n",
        "print(\"Training Accuracy: {:.4f}\".format(accuracy))\n",
        "loss, accuracy = model.evaluate(X_test, y_test, verbose=False)\n",
        "print(\"Testing Accuracy:  {:.4f}\".format(accuracy))\n",
        "plot_history(history)"
      ],
      "execution_count": 186,
      "outputs": [
        {
          "output_type": "stream",
          "text": [
            "Training Accuracy: 1.0000\n",
            "Testing Accuracy:  0.8021\n"
          ],
          "name": "stdout"
        },
        {
          "output_type": "display_data",
          "data": {
            "image/png": "[encoded data removed]",
            "text/plain": [
              "<Figure size 864x360 with 2 Axes>"
            ]
          },
          "metadata": {
            "tags": []
          }
        }
      ]
    },
    {
      "cell_type": "code",
      "metadata": {
        "id": "N5nG6amqGyWk",
        "colab_type": "code",
        "colab": {}
      },
      "source": [
        "idx=5"
      ],
      "execution_count": null,
      "outputs": []
    },
    {
      "cell_type": "code",
      "metadata": {
        "id": "Rc4Kyx4DF1Mf",
        "colab_type": "code",
        "colab": {
          "base_uri": "https://localhost:8080/",
          "height": 235
        },
        "outputId": "068c47ca-b93c-45d9-c0a4-f0b626886021"
      },
      "source": [
        "resdf.loc[idx]=['seq_dnn2_eps50_emb50_maxPool','imdb',rtime, accuracy]\n",
        "idx+=1\n",
        "resdf"
      ],
      "execution_count": 187,
      "outputs": [
        {
          "output_type": "execute_result",
          "data": {
            "text/html": [
              "<div>\n",
              "<style scoped>\n",
              "    .dataframe tbody tr th:only-of-type {\n",
              "        vertical-align: middle;\n",
              "    }\n",
              "\n",
              "    .dataframe tbody tr th {\n",
              "        vertical-align: top;\n",
              "    }\n",
              "\n",
              "    .dataframe thead th {\n",
              "        text-align: right;\n",
              "    }\n",
              "</style>\n",
              "<table border=\"1\" class=\"dataframe\">\n",
              "  <thead>\n",
              "    <tr style=\"text-align: right;\">\n",
              "      <th></th>\n",
              "      <th>model</th>\n",
              "      <th>dataset</th>\n",
              "      <th>Train_Runtime</th>\n",
              "      <th>accuracy</th>\n",
              "    </tr>\n",
              "  </thead>\n",
              "  <tbody>\n",
              "    <tr>\n",
              "      <th>0</th>\n",
              "      <td>lr</td>\n",
              "      <td>yelp</td>\n",
              "      <td>0.0298016</td>\n",
              "      <td>0.796000</td>\n",
              "    </tr>\n",
              "    <tr>\n",
              "      <th>1</th>\n",
              "      <td>lr</td>\n",
              "      <td>amazon</td>\n",
              "      <td>NA</td>\n",
              "      <td>0.796000</td>\n",
              "    </tr>\n",
              "    <tr>\n",
              "      <th>2</th>\n",
              "      <td>lr</td>\n",
              "      <td>imdb</td>\n",
              "      <td>NA</td>\n",
              "      <td>0.748663</td>\n",
              "    </tr>\n",
              "    <tr>\n",
              "      <th>3</th>\n",
              "      <td>seq_dnn1_eps15</td>\n",
              "      <td>imdb</td>\n",
              "      <td>2.44315</td>\n",
              "      <td>0.786096</td>\n",
              "    </tr>\n",
              "    <tr>\n",
              "      <th>4</th>\n",
              "      <td>seq_dnn2_eps20_emb200</td>\n",
              "      <td>imdb</td>\n",
              "      <td>8.74728</td>\n",
              "      <td>0.684492</td>\n",
              "    </tr>\n",
              "    <tr>\n",
              "      <th>5</th>\n",
              "      <td>seq_dnn2_eps50_emb50_maxPool</td>\n",
              "      <td>imdb</td>\n",
              "      <td>12.8724</td>\n",
              "      <td>0.802139</td>\n",
              "    </tr>\n",
              "  </tbody>\n",
              "</table>\n",
              "</div>"
            ],
            "text/plain": [
              "                          model dataset Train_Runtime  accuracy\n",
              "0                            lr    yelp     0.0298016  0.796000\n",
              "1                            lr  amazon            NA  0.796000\n",
              "2                            lr    imdb            NA  0.748663\n",
              "3                seq_dnn1_eps15    imdb       2.44315  0.786096\n",
              "4         seq_dnn2_eps20_emb200    imdb       8.74728  0.684492\n",
              "5  seq_dnn2_eps50_emb50_maxPool    imdb       12.8724  0.802139"
            ]
          },
          "metadata": {
            "tags": []
          },
          "execution_count": 187
        }
      ]
    },
    {
      "cell_type": "markdown",
      "metadata": {
        "_uuid": "53b4098556381b3b10f16043673e27823ab64153",
        "id": "mOnBO1hXzQAd",
        "colab_type": "text"
      },
      "source": [
        "## Convolutional Neural Networks (CNN)\n",
        "\n",
        "Convolutional neural networks or also called **convnets** are one of the most exciting developments in machine learning in recent years.\n",
        "\n",
        "They have revolutionized image classification and computer vision by being able to extract features from images and using them in neural networks. The properties that made them useful in image processing makes them also handy for sequence processing. You can imagine a CNN as a specialized neural network that is able to detect specific patterns.\n",
        "\n",
        "A CNN has hidden layers which are called convolutional layers. When you think of images, a computer has to deal with a two dimensional matrix of numbers and therefore you need some way to detect features in this matrix. These convolutional layers are able to detect edges, corners and other kinds of textures which makes them such a special tool. The convolutional layer consists of multiple filters which are slid across the image and are able to detect specific features."
      ]
    },
    {
      "cell_type": "code",
      "metadata": {
        "trusted": true,
        "_uuid": "2f8b18e5bee409b3da521379c3bb6c6c8a53c075",
        "id": "AD_9uKaQzQAd",
        "colab_type": "code",
        "colab": {
          "base_uri": "https://localhost:8080/",
          "height": 323
        },
        "outputId": "888deea7-16ac-4f2a-a41a-2fa107c3e07e"
      },
      "source": [
        "embedding_dim = 100\n",
        "del(model)\n",
        "model = Sequential()\n",
        "model.add(layers.Embedding(vocab_size, embedding_dim, input_length=maxlen))\n",
        "model.add(layers.Conv1D(128, 5, activation='relu'))\n",
        "model.add(layers.GlobalMaxPooling1D())\n",
        "model.add(layers.Dense(10, activation='relu'))\n",
        "model.add(layers.Dense(1, activation='sigmoid'))\n",
        "model.compile(optimizer='adam',\n",
        "              loss='binary_crossentropy',\n",
        "              metrics=['accuracy'])\n",
        "model.summary()"
      ],
      "execution_count": 192,
      "outputs": [
        {
          "output_type": "stream",
          "text": [
            "Model: \"sequential_10\"\n",
            "_________________________________________________________________\n",
            "Layer (type)                 Output Shape              Param #   \n",
            "=================================================================\n",
            "embedding_6 (Embedding)      (None, 120, 100)          257500    \n",
            "_________________________________________________________________\n",
            "conv1d_1 (Conv1D)            (None, 116, 128)          64128     \n",
            "_________________________________________________________________\n",
            "global_max_pooling1d_3 (Glob (None, 128)               0         \n",
            "_________________________________________________________________\n",
            "dense_20 (Dense)             (None, 10)                1290      \n",
            "_________________________________________________________________\n",
            "dense_21 (Dense)             (None, 1)                 11        \n",
            "=================================================================\n",
            "Total params: 322,929\n",
            "Trainable params: 322,929\n",
            "Non-trainable params: 0\n",
            "_________________________________________________________________\n"
          ],
          "name": "stdout"
        }
      ]
    },
    {
      "cell_type": "code",
      "metadata": {
        "trusted": true,
        "_uuid": "8298fb93c84b464ff93e1a0a54a085faacec5ebf",
        "id": "xjs9fBA2zQAg",
        "colab_type": "code",
        "colab": {
          "base_uri": "https://localhost:8080/",
          "height": 371
        },
        "outputId": "3e97c57f-f3e4-4825-b15c-082eee5ac417"
      },
      "source": [
        "start_time = time.time()\n",
        "\n",
        "history = model.fit(X_train, y_train,\n",
        "                    epochs=10,\n",
        "                    verbose=False,\n",
        "                    validation_data=(X_test, y_test),\n",
        "                    batch_size=10)\n",
        "\n",
        "rtime = time.time() - start_time\n",
        "\n",
        "loss, accuracy = model.evaluate(X_train, y_train, verbose=False)\n",
        "print(\"Training Accuracy: {:.4f}\".format(accuracy))\n",
        "loss, accuracy = model.evaluate(X_test, y_test, verbose=False)\n",
        "print(\"Testing Accuracy:  {:.4f}\".format(accuracy))\n",
        "plot_history(history)"
      ],
      "execution_count": 193,
      "outputs": [
        {
          "output_type": "stream",
          "text": [
            "Training Accuracy: 1.0000\n",
            "Testing Accuracy:  0.7754\n"
          ],
          "name": "stdout"
        },
        {
          "output_type": "display_data",
          "data": {
            "image/png": "[encoded data removed]",
            "text/plain": [
              "<Figure size 864x360 with 2 Axes>"
            ]
          },
          "metadata": {
            "tags": []
          }
        }
      ]
    },
    {
      "cell_type": "code",
      "metadata": {
        "id": "p1Zpu7gKGE-x",
        "colab_type": "code",
        "colab": {
          "base_uri": "https://localhost:8080/",
          "height": 266
        },
        "outputId": "81257b4a-91c1-48a8-970e-e2a4ca819108"
      },
      "source": [
        "idx = 6\n",
        "resdf.loc[idx]=['convnet_dnn2_eps10_emb100_maxPool','imdb',rtime, accuracy]\n",
        "idx+=1\n",
        "resdf\n"
      ],
      "execution_count": 195,
      "outputs": [
        {
          "output_type": "execute_result",
          "data": {
            "text/html": [
              "<div>\n",
              "<style scoped>\n",
              "    .dataframe tbody tr th:only-of-type {\n",
              "        vertical-align: middle;\n",
              "    }\n",
              "\n",
              "    .dataframe tbody tr th {\n",
              "        vertical-align: top;\n",
              "    }\n",
              "\n",
              "    .dataframe thead th {\n",
              "        text-align: right;\n",
              "    }\n",
              "</style>\n",
              "<table border=\"1\" class=\"dataframe\">\n",
              "  <thead>\n",
              "    <tr style=\"text-align: right;\">\n",
              "      <th></th>\n",
              "      <th>model</th>\n",
              "      <th>dataset</th>\n",
              "      <th>Train_Runtime</th>\n",
              "      <th>accuracy</th>\n",
              "    </tr>\n",
              "  </thead>\n",
              "  <tbody>\n",
              "    <tr>\n",
              "      <th>0</th>\n",
              "      <td>lr</td>\n",
              "      <td>yelp</td>\n",
              "      <td>0.0298016</td>\n",
              "      <td>0.796000</td>\n",
              "    </tr>\n",
              "    <tr>\n",
              "      <th>1</th>\n",
              "      <td>lr</td>\n",
              "      <td>amazon</td>\n",
              "      <td>NA</td>\n",
              "      <td>0.796000</td>\n",
              "    </tr>\n",
              "    <tr>\n",
              "      <th>2</th>\n",
              "      <td>lr</td>\n",
              "      <td>imdb</td>\n",
              "      <td>NA</td>\n",
              "      <td>0.748663</td>\n",
              "    </tr>\n",
              "    <tr>\n",
              "      <th>3</th>\n",
              "      <td>seq_dnn1_eps15</td>\n",
              "      <td>imdb</td>\n",
              "      <td>2.44315</td>\n",
              "      <td>0.786096</td>\n",
              "    </tr>\n",
              "    <tr>\n",
              "      <th>4</th>\n",
              "      <td>seq_dnn2_eps20_emb200</td>\n",
              "      <td>imdb</td>\n",
              "      <td>8.74728</td>\n",
              "      <td>0.684492</td>\n",
              "    </tr>\n",
              "    <tr>\n",
              "      <th>5</th>\n",
              "      <td>seq_dnn2_eps50_emb50_maxPool</td>\n",
              "      <td>imdb</td>\n",
              "      <td>12.8724</td>\n",
              "      <td>0.802139</td>\n",
              "    </tr>\n",
              "    <tr>\n",
              "      <th>6</th>\n",
              "      <td>convnet_dnn2_eps10_emb100_maxPool</td>\n",
              "      <td>imdb</td>\n",
              "      <td>4.21887</td>\n",
              "      <td>0.775401</td>\n",
              "    </tr>\n",
              "  </tbody>\n",
              "</table>\n",
              "</div>"
            ],
            "text/plain": [
              "                               model dataset Train_Runtime  accuracy\n",
              "0                                 lr    yelp     0.0298016  0.796000\n",
              "1                                 lr  amazon            NA  0.796000\n",
              "2                                 lr    imdb            NA  0.748663\n",
              "3                     seq_dnn1_eps15    imdb       2.44315  0.786096\n",
              "4              seq_dnn2_eps20_emb200    imdb       8.74728  0.684492\n",
              "5       seq_dnn2_eps50_emb50_maxPool    imdb       12.8724  0.802139\n",
              "6  convnet_dnn2_eps10_emb100_maxPool    imdb       4.21887  0.775401"
            ]
          },
          "metadata": {
            "tags": []
          },
          "execution_count": 195
        }
      ]
    },
    {
      "cell_type": "markdown",
      "metadata": {
        "_uuid": "985360d558b0fcd6b6f17bd8f7599a091b5aa35c",
        "id": "P9pZGRBqzQAl",
        "colab_type": "text"
      },
      "source": [
        "## Hyperparameters Optimization\n",
        "\n",
        "One crucial steps of deep learning and working with neural networks is hyperparameter optimization.\n",
        "\n",
        "As you saw in the models that we have used so far, even with simpler ones, you had a large number of parameters to tweak and choose from. Those parameters are called hyperparameters. This is the most time consuming part of machine learning and sadly there are no one-fits-all solutions ready.\n",
        "\n",
        "One popular method for hyperparameter optimization is **grid search**. What this method does is it takes lists of parameters and it runs the model with each parameter combination that it can find. It is the most thorough way but also the most computationally heavy way to do this. Another common way,**random search**, which you’ll see in action here, simply takes random combinations of parameters.\n",
        "\n",
        "In order to apply random search with Keras, you will need to use the KerasClassifier which serves as a wrapper for the scikit-learn API. With this wrapper you are able to use the various tools available with scikit-learn like cross-validation. The class that you need is RandomizedSearchCV which implements random search with cross-validation. Cross-validation is a way to validate the model and take the whole data set and separate it into multiple testing and training data sets.\n",
        "\n",
        "There are various types of cross-validation. One type is the k-fold cross-validation. In this type the data set is partitioned into k equal sized sets where one set is used for testing and the rest of the partitions are used for training. This enables you to run k different runs, where each partition is once used as a testing set. So, the higher k is the more accurate the model evaluation is, but the smaller each testing set is."
      ]
    },
    {
      "cell_type": "code",
      "metadata": {
        "trusted": true,
        "_uuid": "b347dfa060395fafe259a56d4bf4385d213a6727",
        "id": "Izzp57oezQAl",
        "colab_type": "code",
        "colab": {}
      },
      "source": [
        "def create_model(num_filters, kernel_size, vocab_size, embedding_dim, maxlen):\n",
        "    model = Sequential()\n",
        "    model.add(layers.Embedding(vocab_size, embedding_dim, input_length=maxlen))\n",
        "    model.add(layers.Conv1D(num_filters, kernel_size, activation='relu'))\n",
        "    model.add(layers.GlobalMaxPooling1D())\n",
        "    model.add(layers.Dense(10, activation='relu'))\n",
        "    model.add(layers.Dense(1, activation='sigmoid'))\n",
        "    model.compile(optimizer='adam',\n",
        "                  loss='binary_crossentropy',\n",
        "                  metrics=['accuracy'])\n",
        "    return model"
      ],
      "execution_count": 201,
      "outputs": []
    },
    {
      "cell_type": "code",
      "metadata": {
        "trusted": true,
        "_uuid": "cbdba00bf86fe148d34f58051aa8b74aa410894f",
        "id": "Nx3V5rIJzQAs",
        "colab_type": "code",
        "colab": {}
      },
      "source": [
        "param_grid = dict(num_filters=[32, 64, 128],\n",
        "                  kernel_size=[3, 5, 7],\n",
        "                  vocab_size=[5000], \n",
        "                  embedding_dim=[50],\n",
        "                  maxlen=[100])"
      ],
      "execution_count": 202,
      "outputs": []
    },
    {
      "cell_type": "code",
      "metadata": {
        "id": "lqeTec9XmqhT",
        "colab_type": "code",
        "colab": {}
      },
      "source": [
        ""
      ],
      "execution_count": 3,
      "outputs": []
    },
    {
      "cell_type": "code",
      "metadata": {
        "trusted": true,
        "_uuid": "a33d1066e49c58b8305208f5a59d220f7097bcb8",
        "id": "aKBQK8aRzQAw",
        "colab_type": "code",
        "colab": {
          "base_uri": "https://localhost:8080/",
          "height": 527
        },
        "outputId": "6bc50eef-ab33-49b7-9f58-1238566faa4c"
      },
      "source": [
        "# Main settings\n",
        "epochs = 20\n",
        "embedding_dim = 50\n",
        "maxlen = 100\n",
        "output_file = 'output.txt'\n",
        "\n",
        "# Run grid search for each source (yelp, amazon, imdb)\n",
        "for source, frame in df.groupby('source'):\n",
        "    print('Running grid search for data set :', source)\n",
        "    sentences = df['sentence'].values\n",
        "    y = df['label'].values\n",
        "\n",
        "    # Train-test split\n",
        "    sentences_train, sentences_test, y_train, y_test = train_test_split(\n",
        "        sentences, y, test_size=0.25, random_state=1000)\n",
        "\n",
        "    # Tokenize words\n",
        "    tokenizer = Tokenizer(num_words=5000)\n",
        "    tokenizer.fit_on_texts(sentences_train)\n",
        "    X_train = tokenizer.texts_to_sequences(sentences_train)\n",
        "    X_test = tokenizer.texts_to_sequences(sentences_test)\n",
        "\n",
        "    # Adding 1 because of reserved 0 index\n",
        "    vocab_size = len(tokenizer.word_index) + 1\n",
        "\n",
        "    # Pad sequences with zeros\n",
        "    X_train = pad_sequences(X_train, padding='post', maxlen=maxlen)\n",
        "    X_test = pad_sequences(X_test, padding='post', maxlen=maxlen)\n",
        "\n",
        "    # Parameter grid for grid search\n",
        "    param_grid = dict(num_filters=[32, 64, 128],\n",
        "                      kernel_size=[3, 5, 7],\n",
        "                      vocab_size=[vocab_size],\n",
        "                      embedding_dim=[embedding_dim],\n",
        "                      maxlen=[maxlen])\n",
        "    model = KerasClassifier(build_fn=create_model,\n",
        "                            epochs=epochs, batch_size=10,\n",
        "                            verbose=False)\n",
        "    grid = RandomizedSearchCV(estimator=model, param_distributions=param_grid,\n",
        "                              cv=4, verbose=1, n_iter=5)\n",
        "    \n",
        "    start_time = time.time()\n",
        "    grid_result = grid.fit(X_train, y_train)\n",
        "    rtime = time.time()-start_time\n",
        "\n",
        "    # Evaluate testing set\n",
        "    test_accuracy = grid.score(X_test, y_test)\n",
        "\n",
        "    accurary = test_accuracy\n",
        "    resdf.loc[idx]=['grid_model_'+str(idx),source,rtime, accuracy]\n",
        "    idx+=1\n",
        "    \n",
        "    # Save and evaluate results\n",
        "#     prompt = input(f'finished {source}; write to file and proceed? [y/n]')\n",
        "#     if prompt.lower() not in {'y', 'true', 'yes'}:\n",
        "#         break\n",
        "#     with open(output_file, 'w+') as f:\n",
        "    s = ('Running {} data set\\nBest Accuracy : '\n",
        "             '{:.4f}\\n{}\\nTest Accuracy : {:.4f}\\n\\n')\n",
        "    output_string = s.format(\n",
        "        source,\n",
        "        grid_result.best_score_,\n",
        "        grid_result.best_params_,\n",
        "        test_accuracy)\n",
        "    print(output_string)\n",
        "#         f.write(output_string)"
      ],
      "execution_count": 203,
      "outputs": [
        {
          "output_type": "stream",
          "text": [
            "Running grid search for data set : amazon\n",
            "Fitting 4 folds for each of 5 candidates, totalling 20 fits\n"
          ],
          "name": "stdout"
        },
        {
          "output_type": "stream",
          "text": [
            "[Parallel(n_jobs=1)]: Using backend SequentialBackend with 1 concurrent workers.\n",
            "[Parallel(n_jobs=1)]: Done  20 out of  20 | elapsed:  5.4min finished\n"
          ],
          "name": "stderr"
        },
        {
          "output_type": "stream",
          "text": [
            "Running amazon data set\n",
            "Best Accuracy : 0.8156\n",
            "{'vocab_size': 4603, 'num_filters': 64, 'maxlen': 100, 'kernel_size': 3, 'embedding_dim': 50}\n",
            "Test Accuracy : 0.8268\n",
            "\n",
            "\n",
            "Running grid search for data set : imdb\n",
            "Fitting 4 folds for each of 5 candidates, totalling 20 fits\n"
          ],
          "name": "stdout"
        },
        {
          "output_type": "stream",
          "text": [
            "[Parallel(n_jobs=1)]: Using backend SequentialBackend with 1 concurrent workers.\n",
            "[Parallel(n_jobs=1)]: Done  20 out of  20 | elapsed:  5.3min finished\n"
          ],
          "name": "stderr"
        },
        {
          "output_type": "stream",
          "text": [
            "Running imdb data set\n",
            "Best Accuracy : 0.8171\n",
            "{'vocab_size': 4603, 'num_filters': 128, 'maxlen': 100, 'kernel_size': 5, 'embedding_dim': 50}\n",
            "Test Accuracy : 0.8501\n",
            "\n",
            "\n",
            "Running grid search for data set : yelp\n",
            "Fitting 4 folds for each of 5 candidates, totalling 20 fits\n"
          ],
          "name": "stdout"
        },
        {
          "output_type": "stream",
          "text": [
            "[Parallel(n_jobs=1)]: Using backend SequentialBackend with 1 concurrent workers.\n",
            "[Parallel(n_jobs=1)]: Done  20 out of  20 | elapsed:  5.2min finished\n"
          ],
          "name": "stderr"
        },
        {
          "output_type": "stream",
          "text": [
            "Running yelp data set\n",
            "Best Accuracy : 0.8253\n",
            "{'vocab_size': 4603, 'num_filters': 32, 'maxlen': 100, 'kernel_size': 5, 'embedding_dim': 50}\n",
            "Test Accuracy : 0.8399\n",
            "\n",
            "\n"
          ],
          "name": "stdout"
        }
      ]
    },
    {
      "cell_type": "code",
      "metadata": {
        "trusted": true,
        "_uuid": "87d72394ce27585385eddc427b555203160cb33c",
        "id": "tXvvFTCLzQA7",
        "colab_type": "code",
        "colab": {}
      },
      "source": [
        "resdf"
      ],
      "execution_count": 2,
      "outputs": []
    },
    {
      "cell_type": "code",
      "metadata": {
        "id": "tiGz0x4-lzal",
        "colab_type": "code",
        "colab": {}
      },
      "source": [
        ""
      ],
      "execution_count": null,
      "outputs": []
    }
  ]
}