{
  "nbformat": 4,
  "nbformat_minor": 0,
  "metadata": {
    "colab": {
      "name": "read_json_file.ipynb",
      "provenance": [],
      "toc_visible": true,
      "authorship_tag": "ABX9TyNxXvT4IZt/HO2SjC/cJtwK",
      "include_colab_link": true
    },
    "kernelspec": {
      "name": "python3",
      "display_name": "Python 3"
    }
  },
  "cells": [
    {
      "cell_type": "markdown",
      "metadata": {
        "id": "view-in-github",
        "colab_type": "text"
      },
      "source": [
        "<a href=\"https://colab.research.google.com/github/ftk1000/colab_demos/blob/master/read_json_file.ipynb\" target=\"_parent\"><img src=\"https://colab.research.google.com/assets/colab-badge.svg\" alt=\"Open In Colab\"/></a>"
      ]
    },
    {
      "cell_type": "code",
      "metadata": {
        "id": "c2k9YmFgs4DV",
        "colab_type": "code",
        "colab": {}
      },
      "source": [
        "#2020.03.20\n",
        "# https://www.youtube.com/watch?v=7GFXm8HUD7s\n",
        "\n",
        "import json\n",
        "import requests"
      ],
      "execution_count": 0,
      "outputs": []
    },
    {
      "cell_type": "code",
      "metadata": {
        "id": "4voKdWVmwMuE",
        "colab_type": "code",
        "colab": {
          "base_uri": "https://localhost:8080/",
          "height": 68
        },
        "outputId": "c63e9d07-879a-4db0-d61e-7c32fc4bdf79"
      },
      "source": [
        "# !wget https://www.google.com/url?q=https://storage.googleapis.com/dialog-data-corpus/CCPE-M-2019/data.json\n",
        "\n",
        "!gsutil -m cp -R gs://dialog-data-corpus/CCPE-M-2019 ."
      ],
      "execution_count": 12,
      "outputs": [
        {
          "output_type": "stream",
          "text": [
            "Copying gs://dialog-data-corpus/CCPE-M-2019/landing_page.html...\n",
            "Copying gs://dialog-data-corpus/CCPE-M-2019/README.txt...\n",
            "Copying gs://dialog-data-corpus/CCPE-M-2019/data.json...\n"
          ],
          "name": "stdout"
        }
      ]
    },
    {
      "cell_type": "code",
      "metadata": {
        "id": "eJQq93rOtIY4",
        "colab_type": "code",
        "colab": {
          "base_uri": "https://localhost:8080/",
          "height": 187
        },
        "outputId": "32d5c6b3-b0d6-4ab3-de39-c8921969576b"
      },
      "source": [
        "# request = requests.get(\"https://www.google.com/url?q=https://storage.googleapis.com/dialog-data-corpus/CCPE-M-2019/data.json&sa=D&ust=1568398310364000\")\n",
        "# request = requests.get(\"https://www.google.com/url?q=https://storage.googleapis.com/dialog-data-corpus/CCPE-M-2019/data.json\")\n",
        "# request_text = request.text\n",
        "# print(request_text)\n",
        "\n",
        "data = json.load(open(\"CCPE-M-2019/data.json\"))\n",
        "\n"
      ],
      "execution_count": 15,
      "outputs": [
        {
          "output_type": "stream",
          "text": [
            "IOPub data rate exceeded.\n",
            "The notebook server will temporarily stop sending output\n",
            "to the client in order to avoid crashing it.\n",
            "To change this limit, set the config variable\n",
            "`--NotebookApp.iopub_data_rate_limit`.\n",
            "\n",
            "Current values:\n",
            "NotebookApp.iopub_data_rate_limit=1000000.0 (bytes/sec)\n",
            "NotebookApp.rate_limit_window=3.0 (secs)\n",
            "\n"
          ],
          "name": "stderr"
        }
      ]
    },
    {
      "cell_type": "code",
      "metadata": {
        "id": "IzCc3TY_uVYW",
        "colab_type": "code",
        "colab": {
          "base_uri": "https://localhost:8080/",
          "height": 34
        },
        "outputId": "cf59bed2-71c3-4199-e52f-bd4e3b4660c3"
      },
      "source": [
        "# data = json.load(request_text)\n",
        "print( type(data) )\n"
      ],
      "execution_count": 16,
      "outputs": [
        {
          "output_type": "stream",
          "text": [
            "<class 'list'>\n"
          ],
          "name": "stdout"
        }
      ]
    },
    {
      "cell_type": "code",
      "metadata": {
        "id": "BofFhk6uxlTR",
        "colab_type": "code",
        "colab": {
          "base_uri": "https://localhost:8080/",
          "height": 187
        },
        "outputId": "f821f17c-a54d-4df4-83fa-c7c3cccbafe4"
      },
      "source": [
        "print(data)"
      ],
      "execution_count": 17,
      "outputs": [
        {
          "output_type": "stream",
          "text": [
            "IOPub data rate exceeded.\n",
            "The notebook server will temporarily stop sending output\n",
            "to the client in order to avoid crashing it.\n",
            "To change this limit, set the config variable\n",
            "`--NotebookApp.iopub_data_rate_limit`.\n",
            "\n",
            "Current values:\n",
            "NotebookApp.iopub_data_rate_limit=1000000.0 (bytes/sec)\n",
            "NotebookApp.rate_limit_window=3.0 (secs)\n",
            "\n"
          ],
          "name": "stderr"
        }
      ]
    },
    {
      "cell_type": "code",
      "metadata": {
        "id": "Bo3jeKqMxmQY",
        "colab_type": "code",
        "colab": {}
      },
      "source": [
        ""
      ],
      "execution_count": 0,
      "outputs": []
    }
  ]
}